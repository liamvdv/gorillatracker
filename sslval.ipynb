{
 "cells": [
  {
   "cell_type": "code",
   "execution_count": 1,
   "metadata": {},
   "outputs": [],
   "source": [
    "from functools import partial\n",
    "from itertools import islice\n",
    "from typing import Any, Dict, List, Optional, Tuple, Union\n",
    "\n",
    "import lightning as L\n",
    "import matplotlib.pyplot as plt\n",
    "import numpy as np\n",
    "import numpy.typing as npt\n",
    "import pandas as pd\n",
    "import PIL\n",
    "import seaborn as sns\n",
    "import sklearn\n",
    "import torch\n",
    "import torchmetrics as tm\n",
    "import wandb\n",
    "from pytorch_grad_cam import GradCAM\n",
    "from pytorch_grad_cam.utils.image import show_cam_on_image\n",
    "from sklearn.manifold import TSNE\n",
    "from torchmetrics.functional import pairwise_euclidean_distance\n",
    "from torchvision.transforms import ToPILImage\n",
    "\n",
    "import gorillatracker.type_helper as gtypes\n",
    "from gorillatracker.utils.labelencoder import LinearSequenceEncoder\n",
    "from sklearn.neighbors import NearestNeighbors"
   ]
  },
  {
   "cell_type": "code",
   "execution_count": 2,
   "metadata": {},
   "outputs": [],
   "source": [
    "def knn_ssl(embeddings: torch.Tensor, labels: torch.Tensor, k:int = 1) -> Dict[str, Any]:\n",
    "    negatives: Dict[int, List[int]] = {}\n",
    "    \n",
    "    true_label = []\n",
    "    pred_label = []\n",
    "    \n",
    "    for label in labels.unique():\n",
    "        subset_labels = negatives[label.item()] + label.item()\n",
    "        if(len(subset_labels) < 2):\n",
    "            continue\n",
    "        subset_mask = torch.isin(labels, subset_labels)\n",
    "        subset_embeddings = embeddings[subset_mask]\n",
    "        knn = NearestNeighbors(n_neighbors=k+1,algorithm='auto').fit(subset_embeddings.numpy())\n",
    "        current_label_mask = (subset_labels == label.item())\n",
    "        current_label_embeddings = subset_embeddings[current_label_mask]\n",
    "        distances, indices = knn.kneighbors(current_label_embeddings.numpy())\n",
    "        distances = distances[:, 1:]\n",
    "        indices = indices[:, 1:]\n",
    "                \n",
    "        \n",
    "    # loop over labels/tracklets\n",
    "    # for each tracklet, calculate the distance to all negative tracklets\n",
    "    # add result for label to final result\n",
    "    # calculate accuracy, accuracy_top5, auroc, f1\n",
    "    pass"
   ]
  }
 ],
 "metadata": {
  "kernelspec": {
   "display_name": "Python 3",
   "language": "python",
   "name": "python3"
  },
  "language_info": {
   "codemirror_mode": {
    "name": "ipython",
    "version": 3
   },
   "file_extension": ".py",
   "mimetype": "text/x-python",
   "name": "python",
   "nbconvert_exporter": "python",
   "pygments_lexer": "ipython3",
   "version": "3.10.14"
  }
 },
 "nbformat": 4,
 "nbformat_minor": 2
}
