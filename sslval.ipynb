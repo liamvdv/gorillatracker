{
 "cells": [
  {
   "cell_type": "code",
   "execution_count": null,
   "metadata": {},
   "outputs": [],
   "source": [
    "from typing import Any, Dict, List, Literal\n",
    "\n",
    "import matplotlib.pyplot as plt\n",
    "import numpy as np\n",
    "import torch\n",
    "from sklearn.neighbors import NearestNeighbors\n",
    "from sklearn.metrics import accuracy_score, top_k_accuracy_score, roc_auc_score, f1_score, precision_score\n",
    "from src.gorillatracker.utils.labelencoder import LinearSequenceEncoder"
   ]
  },
  {
   "cell_type": "code",
   "execution_count": null,
   "metadata": {},
   "outputs": [],
   "source": [
    "# TODO: pass dm and get negative samples from datamodule\n",
    "# TODO: encode labels and get negative labels"
   ]
  },
  {
   "cell_type": "code",
   "execution_count": null,
   "metadata": {},
   "outputs": [],
   "source": [
    "def knn_ssl(embeddings: torch.Tensor, labels: torch.Tensor, average: Literal[\"micro\", \"macro\", \"weighted\", \"none\"],negatives: Dict[int, List[int]], k:int = 1) -> Dict[str, Any]:\n",
    "    true_labels = []\n",
    "    pred_labels = []\n",
    "    pred_labels_top5 = []\n",
    "    \n",
    "    for label in labels.unique():\n",
    "        subset_labels = negatives[label.item()] + [label.item()]\n",
    "        if(len(subset_labels) < 2):\n",
    "            continue\n",
    "        subset_mask = torch.isin(labels,torch.tensor(subset_labels))\n",
    "        subset_embeddings = embeddings[subset_mask]\n",
    "        subset_label_values = labels[subset_mask]\n",
    "        knn = NearestNeighbors(n_neighbors=max(5,k)+1,algorithm='auto').fit(subset_embeddings.numpy())\n",
    "        current_label_mask = (subset_label_values == label.item())\n",
    "        current_label_embeddings = subset_embeddings[current_label_mask]\n",
    "        distances, indices = knn.kneighbors(current_label_embeddings.numpy())\n",
    "        distances = distances[:, 1:]\n",
    "        indices = indices[:, 1:]\n",
    "        for idx_list in indices:\n",
    "            neighbor_labels = subset_label_values[idx_list]\n",
    "            most_common = torch.mode(neighbor_labels[:k]).values.item()\n",
    "            true_labels.append(label.item())\n",
    "            pred_labels.append(most_common)\n",
    "            pred_labels_top5.append(neighbor_labels[:5].numpy())\n",
    "                    \n",
    "    true_labels = torch.tensor(true_labels)\n",
    "    pred_labels = torch.tensor(pred_labels)\n",
    "    \n",
    "    pred_labels_top5_tensor = torch.tensor(pred_labels_top5)\n",
    "    top5_correct = []\n",
    "    for i, true_label in enumerate(true_labels):\n",
    "        if true_label in pred_labels_top5_tensor[i]:\n",
    "            top5_correct.append(1)\n",
    "        else:\n",
    "            top5_correct.append(0)\n",
    "    top5_accuracy = sum(top5_correct) / len(top5_correct)\n",
    "\n",
    "    accuracy = accuracy_score(true_labels, pred_labels)\n",
    "    f1 = f1_score(true_labels, pred_labels, average=average)\n",
    "    precision = precision_score(true_labels, pred_labels, average=average,zero_division=0)\n",
    "    \n",
    "    return {'accuracy': accuracy, 'accuracy_top5': top5_accuracy, 'f1': f1, 'precision': precision}"
   ]
  },
  {
   "cell_type": "code",
   "execution_count": null,
   "metadata": {},
   "outputs": [],
   "source": [
    "ids = range(1,200)\n",
    "num_points_per_id = 20\n",
    "grid_size = (10, 10)  # Define the grid size\n",
    "np.random.seed(43)\n",
    "# Generate the embeddings and labels\n",
    "embeddings = []\n",
    "labels = []\n",
    "negatives = {}\n",
    "\n",
    "for id in ids:\n",
    "    for _ in range(num_points_per_id):\n",
    "        # Generate random x and y coordinates within the grid\n",
    "        x = np.random.uniform(0, grid_size[0])\n",
    "        y = np.random.uniform(0, grid_size[1])\n",
    "        embeddings.append([x, y])\n",
    "        labels.append(id)\n",
    "        negatives[id] = [i for i in ids if i != id and np.random.random() < 0.01]\n",
    "\n",
    "# Convert the lists to Torch tensors\n",
    "embeddings_tensor = torch.tensor(embeddings)\n",
    "labels_tensor = torch.tensor(labels)\n",
    "\n",
    "# negatives = {1: [2,3], 2: [1, 3], 3: [1, 2, 4], 4: [3, 5], 5: [4]}\n",
    "print(knn_ssl(embeddings_tensor, labels_tensor, \"macro\", negatives, k=1))"
   ]
  },
  {
   "cell_type": "code",
   "execution_count": null,
   "metadata": {},
   "outputs": [],
   "source": [
    "for i in range(20):\n",
    "    print(knn_ssl(embeddings_tensor, labels_tensor, \"macro\", negatives, k=1))"
   ]
  },
  {
   "cell_type": "code",
   "execution_count": null,
   "metadata": {},
   "outputs": [],
   "source": [
    "# Define the subset of labels we want to plot\n",
    "subset_labels = [1, 2, 5, 4, 3]\n",
    "\n",
    "# Create a mask to filter embeddings and labels\n",
    "mask = torch.isin(labels_tensor, torch.tensor(subset_labels))\n",
    "subset_embeddings = embeddings_tensor[mask]\n",
    "subset_labels_tensor = labels_tensor[mask]\n",
    "\n",
    "# Plotting the embeddings for the subset\n",
    "plt.figure(figsize=(10, 8))\n",
    "scatter = plt.scatter(subset_embeddings[:, 0], subset_embeddings[:, 1], c=subset_labels_tensor, cmap='viridis', alpha=0.7)\n",
    "\n",
    "# Adding a colorbar and title\n",
    "plt.colorbar(scatter, ticks=subset_labels)\n",
    "plt.title('Embeddings Visualization')\n",
    "plt.xlabel('Embedding Dimension 1')\n",
    "plt.ylabel('Embedding Dimension 2')\n",
    "plt.grid(True)\n",
    "plt.show()"
   ]
  }
 ],
 "metadata": {
  "kernelspec": {
   "display_name": "Python 3",
   "language": "python",
   "name": "python3"
  },
  "language_info": {
   "codemirror_mode": {
    "name": "ipython",
    "version": 3
   },
   "file_extension": ".py",
   "mimetype": "text/x-python",
   "name": "python",
   "nbconvert_exporter": "python",
   "pygments_lexer": "ipython3",
   "version": "3.10.14"
  }
 },
 "nbformat": 4,
 "nbformat_minor": 2
}
