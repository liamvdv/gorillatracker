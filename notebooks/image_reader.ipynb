{
 "cells": [
  {
   "cell_type": "code",
   "execution_count": null,
   "metadata": {},
   "outputs": [],
   "source": [
    "import os\n",
    "import random\n",
    "import matplotlib.pyplot as plt\n",
    "import matplotlib.image as mpimg\n",
    "import time"
   ]
  },
  {
   "cell_type": "code",
   "execution_count": null,
   "metadata": {},
   "outputs": [],
   "source": [
    "\n",
    "data_dir = \"/workspaces/gorillatracker/data/derived_data/spac_gorillas_converted_labels_cropped_bodies/train\"\n",
    "# show 10 random images from the data_dir\n",
    "filenames = os.listdir(data_dir)\n",
    "print(filenames[:10])"
   ]
  },
  {
   "cell_type": "code",
   "execution_count": null,
   "metadata": {},
   "outputs": [],
   "source": [
    "# generate 10 random numbers between 0 and len(filenames)\n",
    "random.seed(time.time())\n",
    "random_numbers = random.sample(range(len(filenames)), 10)\n",
    "random_filenames = [filenames[i] for i in random_numbers]\n",
    "# plot the images\n",
    "fig, ax = plt.subplots(2, 5, figsize=(20, 8))\n",
    "for i in range(2):\n",
    "    for j in range(5):\n",
    "        img = mpimg.imread(os.path.join(data_dir, random_filenames[i*5+j]))\n",
    "        ax[i, j].imshow(img)\n",
    "        ax[i, j].axis(\"off\")\n",
    "        ax[i, j].set_title(random_filenames[i*5+j])\n",
    "plt.show()"
   ]
  },
  {
   "cell_type": "code",
   "execution_count": null,
   "metadata": {},
   "outputs": [],
   "source": [
    "# select random gorilla and print all 15 images of it \n",
    "gorilla_file = random.choice(filenames)\n",
    "gorilla = gorilla_file.split(\"-\")[0] + \"-\" + gorilla_file.split(\"-\")[1]\n",
    "# now we find all images that contain this gorilla (it has an ending -<frame_number>.jpg)\n",
    "gorilla_images = [filename for filename in filenames if gorilla in filename]\n",
    "# sort the images by frame number\n",
    "gorilla_images.sort(key=lambda x: int(x.split(\"-\")[2].split(\".\")[0]))\n",
    "# plot the images\n",
    "fig, ax = plt.subplots(3, 5, figsize=(20, 8))\n",
    "for i in range(3):\n",
    "    for j in range(5):\n",
    "        img = mpimg.imread(os.path.join(data_dir, gorilla_images[i*5+j]))\n",
    "        ax[i, j].imshow(img)\n",
    "        ax[i, j].axis(\"off\")\n",
    "        ax[i, j].set_title(gorilla_images[i*5+j])\n",
    "plt.show()"
   ]
  }
 ],
 "metadata": {
  "kernelspec": {
   "display_name": "Python 3",
   "language": "python",
   "name": "python3"
  },
  "language_info": {
   "codemirror_mode": {
    "name": "ipython",
    "version": 3
   },
   "file_extension": ".py",
   "mimetype": "text/x-python",
   "name": "python",
   "nbconvert_exporter": "python",
   "pygments_lexer": "ipython3",
   "version": "3.10.13"
  }
 },
 "nbformat": 4,
 "nbformat_minor": 2
}
