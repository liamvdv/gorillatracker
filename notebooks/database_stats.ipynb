{
 "cells": [
  {
   "cell_type": "markdown",
   "metadata": {},
   "source": [
    "### Imports and database initialization"
   ]
  },
  {
   "cell_type": "code",
   "execution_count": 2,
   "metadata": {},
   "outputs": [],
   "source": [
    "from sqlalchemy import select, func\n",
    "from gorillatracker.ssl_pipeline.models import Tracking, Video, Camera\n",
    "from sqlalchemy.orm import sessionmaker\n",
    "from gorillatracker.ssl_pipeline.dataset import GorillaDatasetKISZ\n",
    "\n",
    "import matplotlib.pyplot as plt\n",
    "import matplotlib.dates as mdates\n",
    "from matplotlib.dates import DateFormatter\n",
    "\n",
    "import numpy as np\n",
    "\n",
    "engine = GorillaDatasetKISZ().engine\n",
    "session_cls = sessionmaker(bind=engine)"
   ]
  },
  {
   "cell_type": "markdown",
   "metadata": {},
   "source": [
    "### Number of Videos with x tracklets (174 outliers not shown)"
   ]
  },
  {
   "cell_type": "code",
   "execution_count": null,
   "metadata": {},
   "outputs": [],
   "source": [
    "stmt = (\n",
    "    select(Video.video_id)\n",
    ")\n",
    "\n",
    "with session_cls() as session:\n",
    "    result = session.execute(stmt).fetchall()\n",
    "\n",
    "num_videos = len(result)\n",
    "\n",
    "stmt = (\n",
    "    select(Tracking.video_id, func.count(Tracking.tracking_id).label(\"count\"))\n",
    "    .group_by(Tracking.video_id)\n",
    "    )\n",
    "\n",
    "with session_cls() as session:\n",
    "    result = session.execute(stmt)\n",
    "    sorted_all = sorted(result.fetchall(), key=lambda x: x[1], reverse=True)\n",
    "\n",
    "num_videos_no_tracking = num_videos - len(sorted_all)\n",
    "\n",
    "res = {}\n",
    "\n",
    "for video_id, count in sorted_all:\n",
    "    if count not in res:\n",
    "        res[count] = 1\n",
    "    res[count] += 1\n",
    "\n",
    "res[0] = num_videos_no_tracking\n",
    "\n",
    "count = sum([res[x] for x in res.keys() if x > 40])\n",
    "print(count)\n",
    "print(sorted([(x, res[x]) for x in res.keys() if x > 40]))\n",
    "\n",
    "res = res.items()\n",
    "\n",
    "list1, list2 = zip(*res)\n",
    "\n",
    "plt.bar(list1, list2)\n",
    "plt.xlabel(\"Tracklet count\")\n",
    "plt.ylabel(\"Number of videos\")\n",
    "plt.xlim(-1,40)\n",
    "plt.title(\"Number of videos with x tracklets\")\n",
    "plt.tight_layout()\n",
    "plt.show()"
   ]
  },
  {
   "cell_type": "markdown",
   "metadata": {},
   "source": [
    "### Tracklet distribution heatmap over camera positions"
   ]
  },
  {
   "cell_type": "code",
   "execution_count": null,
   "metadata": {},
   "outputs": [],
   "source": [
    "from ipywidgets import IntProgress\n",
    "\n",
    "stmt = (\n",
    "    select(Video.camera_id, func.sum(Tracking.tracking_id).label(\"count\"))\n",
    "    .join(Tracking, Video.video_id == Tracking.video_id)\n",
    "    .group_by(Video.camera_id)\n",
    "    )\n",
    "\n",
    "with session_cls() as session:\n",
    "    result = session.execute(stmt)\n",
    "    all = sorted(result.fetchall(), key=lambda x: x[0])\n",
    "\n",
    "stmt = (\n",
    "    select(Camera.camera_id, Camera.longitude, Camera.latitude)\n",
    "    )\n",
    "\n",
    "with session_cls() as session:\n",
    "    result = session.execute(stmt)\n",
    "    all2 = sorted(result.fetchall(), key=lambda x: x[0])\n",
    "\n",
    "mapping = {x : (y,z) for x, y, z in all2}\n",
    "\n",
    "f = IntProgress(min=0, max=len(all)) # instantiate the bar\n",
    "display(f)\n",
    "\n",
    "points = []\n",
    "for (camera_id, count) in all:\n",
    "    f.value += 1\n",
    "    (long, lat) = mapping[camera_id]\n",
    "    if long is None or lat is None:\n",
    "        continue\n",
    "    for i in range(count//10000):\n",
    "        points.append((long + np.random.normal(0, 0.002), lat + np.random.normal(0, 0.002)))\n",
    "\n",
    "x, y = zip(*points)\n",
    "\n",
    "plt.hist2d(x,y, bins=1000, cmap=\"twilight\")\n",
    "plt.xlabel(\"Longitude (2.17km between ticks)\")\n",
    "plt.ylabel(\"Latitude (2.22km between ticks)\")\n",
    "plt.title(\"Tracklet distribution heatmap over camera positions\")\n",
    "for i, (x, y) in mapping.items():\n",
    "    if x is None or y is None:\n",
    "        continue\n",
    "    plt.text(x, y, f\"{i}\", ha=\"center\", fontsize=6)\n",
    "\n",
    "plt.show()"
   ]
  },
  {
   "cell_type": "markdown",
   "metadata": {},
   "source": [
    "### Number of Videos per Camera"
   ]
  },
  {
   "cell_type": "code",
   "execution_count": null,
   "metadata": {},
   "outputs": [],
   "source": [
    "stmt = (\n",
    "    select(Video.camera_id, func.count(Video.video_id).label(\"count\"))\n",
    "    .group_by(Video.camera_id)\n",
    ")\n",
    "\n",
    "with session_cls() as session:\n",
    "    result = session.execute(stmt)\n",
    "    result_list = result.fetchall()\n",
    "\n",
    "sorted_all = sorted(result_list, key=lambda x: x.count, reverse=True)\n",
    "\n",
    "list1, list2 = zip(*[(row.camera_id, row.count) for row in sorted_all])\n",
    "\n",
    "plt.xticks(rotation=90, fontsize=4)\n",
    "plt.bar(range(len(list1)), list2, tick_label=list1)\n",
    "plt.xlabel(\"Camera ID\")\n",
    "plt.ylabel(\"Number of videos\")\n",
    "plt.title(\"Number of videos per camera\")\n",
    "plt.tight_layout()\n",
    "plt.show()"
   ]
  },
  {
   "cell_type": "markdown",
   "metadata": {},
   "source": [
    "### Length of Videos per Camera"
   ]
  },
  {
   "cell_type": "code",
   "execution_count": null,
   "metadata": {},
   "outputs": [],
   "source": [
    "stmt = (\n",
    "    select(Video.camera_id, func.avg((Video.frames / Video.fps).label(\"duration\")).label(\"count\"))\n",
    "    .group_by(Video.camera_id)\n",
    ")\n",
    "\n",
    "with session_cls() as session:\n",
    "    result = session.execute(stmt)\n",
    "    result_list = result.fetchall()\n",
    "\n",
    "sorted_all = sorted(result_list, key=lambda x: x.count, reverse=True)\n",
    "\n",
    "list1, list2 = zip(*[(row.camera_id, row.count) for row in sorted_all])\n",
    "\n",
    "plt.xticks(rotation=90, fontsize=4)\n",
    "plt.bar(range(len(list1)), list2, tick_label=list1)\n",
    "plt.xlabel(\"Camera ID\")\n",
    "plt.ylabel(\"Average video duration (s)\")\n",
    "plt.title(\"Average video length per camera\")\n",
    "plt.tight_layout()\n",
    "plt.show()"
   ]
  },
  {
   "cell_type": "markdown",
   "metadata": {},
   "source": [
    "### Length of Videos"
   ]
  },
  {
   "cell_type": "code",
   "execution_count": null,
   "metadata": {},
   "outputs": [],
   "source": [
    "stmt = (\n",
    "    select((Video.frames / Video.fps).label(\"duration\"), func.count(Video.video_id).label(\"count\"))\n",
    "    .group_by(\"duration\")\n",
    "    )\n",
    "\n",
    "with session_cls() as session:\n",
    "    result = session.execute(stmt)\n",
    "    all = result.fetchall()\n",
    "\n",
    "res = {}\n",
    "\n",
    "bins = 10\n",
    "for length, count in all:\n",
    "    if length // bins * bins not in res:\n",
    "        res[length // bins * bins] = 0\n",
    "    res[length // bins * bins] += count\n",
    "\n",
    "list1, list2 = zip(*res.items())\n",
    "plt.bar(list1, list2, width=5)\n",
    "plt.xlabel(f\"Length (seconds) in bins of {bins}\")\n",
    "plt.ylabel(\"Number of Videos (log scale)\")\n",
    "plt.yscale(\"log\")\n",
    "plt.title(\"Number of videos per length\")\n",
    "plt.tight_layout()\n",
    "plt.show()"
   ]
  },
  {
   "cell_type": "markdown",
   "metadata": {},
   "source": [
    "### Distribution of Video Recording Start Times"
   ]
  },
  {
   "cell_type": "code",
   "execution_count": null,
   "metadata": {},
   "outputs": [],
   "source": [
    "from datetime import datetime\n",
    "\n",
    "stmt = (\n",
    "    select(Video.start_time)\n",
    ")\n",
    "\n",
    "with session_cls() as session:\n",
    "    result = session.execute(stmt)\n",
    "    all = result.fetchall()\n",
    "    all_times = [mdates.date2num(datetime.combine(datetime.today(), t[0].time())) for t in all if t[0] is not None]\n",
    "    \n",
    "fig, ax = plt.subplots()\n",
    "ax.hist(all_times, bins=24 * 4, rwidth=0.8)\n",
    "ax.xaxis.set_major_formatter(DateFormatter(\"%H:%M\"))\n",
    "plt.xlabel(\"Time of Day Start Time\")\n",
    "plt.ylabel(\"Number of Videos\")\n",
    "plt.title(\"Distribution of Video Recording Times\")\n",
    "plt.xticks(rotation=45)\n",
    "plt.tight_layout()\n",
    "plt.show()"
   ]
  },
  {
   "cell_type": "markdown",
   "metadata": {},
   "source": [
    "### Number of Videos with and without Camera Position per Date (stacked graph)"
   ]
  },
  {
   "cell_type": "code",
   "execution_count": null,
   "metadata": {},
   "outputs": [],
   "source": [
    "stmt = (\n",
    "    select(Video.start_time).join(\n",
    "        Camera, Video.camera_id == Camera.camera_id\n",
    "        ).where(Video.start_time != None).where(Camera.longitude == None)\n",
    "    )\n",
    "\n",
    "with session_cls() as session:\n",
    "    result = session.execute(stmt)\n",
    "    no_pos = result.fetchall()\n",
    "    \n",
    "stmt = (\n",
    "    select(Video.start_time).join(\n",
    "        Camera, Video.camera_id == Camera.camera_id\n",
    "        ).where(Video.start_time != None).where(Camera.longitude != None)\n",
    "    )\n",
    "\n",
    "with session_cls() as session:\n",
    "    result = session.execute(stmt)\n",
    "    with_pos = result.fetchall()\n",
    "    \n",
    "no_pos_dates = [mdates.date2num(date[0].date()) for date in no_pos if date[0] is not None and date[0].date().year > 2000]\n",
    "with_pos_dates = [mdates.date2num(date[0].date()) for date in with_pos if date[0] is not None and date[0].date().year > 2000]\n",
    "\n",
    "fig, ax = plt.subplots()\n",
    "plt.hist([no_pos_dates, with_pos_dates], bins=100, color=['blue', 'green'], stacked=True)\n",
    "plt.legend([\"Without Camera Position\", \"With Camera Position\"])\n",
    "ax.xaxis.set_major_formatter(DateFormatter(\"%Y-%m-%d\"))\n",
    "ax.xaxis.set_major_locator(mdates.YearLocator())\n",
    "plt.xlabel(\"Date\")\n",
    "plt.ylabel(\"Number of Videos\")\n",
    "plt.xticks(rotation=45)\n",
    "plt.title(\"Number of videos per date\")\n",
    "plt.tight_layout()\n",
    "plt.show()"
   ]
  }
 ],
 "metadata": {
  "kernelspec": {
   "display_name": "Python 3",
   "language": "python",
   "name": "python3"
  },
  "language_info": {
   "codemirror_mode": {
    "name": "ipython",
    "version": 3
   },
   "file_extension": ".py",
   "mimetype": "text/x-python",
   "name": "python",
   "nbconvert_exporter": "python",
   "pygments_lexer": "ipython3",
   "version": "3.10.14"
  }
 },
 "nbformat": 4,
 "nbformat_minor": 2
}
