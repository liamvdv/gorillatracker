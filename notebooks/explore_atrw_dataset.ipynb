{
 "cells": [
  {
   "cell_type": "code",
   "execution_count": null,
   "metadata": {},
   "outputs": [],
   "source": [
    "import os\n",
    "import matplotlib.pyplot as plt\n",
    "import random\n",
    "from PIL import Image\n",
    "import numpy as np"
   ]
  },
  {
   "cell_type": "code",
   "execution_count": null,
   "metadata": {},
   "outputs": [],
   "source": [
    "images_path = \"/workspaces/gorillatracker/datasets/vast/external-datasets/ATRW/atrw_format_adapted\"\n",
    "\n",
    "images = os.listdir(images_path)\n",
    "print(\"Number of images: \", len(images))"
   ]
  },
  {
   "cell_type": "code",
   "execution_count": null,
   "metadata": {},
   "outputs": [],
   "source": [
    "def plot_sample_images(images_path, num_samples=5):\n",
    "    sample_images = random.sample(images, num_samples)\n",
    "    plt.figure(figsize=(20, 10))\n",
    "    for i, img_name in enumerate(sample_images):\n",
    "        img_path = os.path.join(images_path, img_name)\n",
    "        img = Image.open(img_path)\n",
    "        plt.subplot(1, num_samples, i + 1)\n",
    "        plt.imshow(img)\n",
    "        plt.title(img_name)\n",
    "        plt.axis(\"off\")\n",
    "    plt.show()\n",
    "\n",
    "plot_sample_images(images_path)"
   ]
  },
  {
   "cell_type": "code",
   "execution_count": null,
   "metadata": {},
   "outputs": [],
   "source": [
    "def group_images(images):\n",
    "    labels = {}\n",
    "    for image in images:\n",
    "        label = image.split(\"_\")[0]\n",
    "        if label not in labels:\n",
    "            labels[label] = []\n",
    "        labels[label].append(image)\n",
    "    return labels\n",
    "\n",
    "labels_dict = group_images(images)\n",
    "num_individuals = len(labels_dict)\n",
    "print(\"Number of Individuals: \", num_individuals)"
   ]
  },
  {
   "cell_type": "code",
   "execution_count": null,
   "metadata": {},
   "outputs": [],
   "source": [
    "# Plot the distribution of number of images per individual\n",
    "num_images_per_individual = [len(images) for images in labels_dict.values()]\n",
    "plt.hist(num_images_per_individual, bins=50)\n",
    "plt.xlabel(\"Number of images\")\n",
    "plt.ylabel(\"Number of individuals\")\n",
    "plt.title(\"Distribution of number of images per individual\")\n",
    "plt.show()"
   ]
  },
  {
   "cell_type": "code",
   "execution_count": null,
   "metadata": {},
   "outputs": [],
   "source": [
    "num_images_stats = {\n",
    "    \"mean\": np.mean(num_images_per_individual),\n",
    "    \"median\": np.median(num_images_per_individual),\n",
    "    \"std\": np.std(num_images_per_individual),\n",
    "    \"min\": np.min(num_images_per_individual),\n",
    "    \"max\": np.max(num_images_per_individual),\n",
    "    \"25th_percentile\": np.percentile(num_images_per_individual, 25),\n",
    "    \"75th_percentile\": np.percentile(num_images_per_individual, 75)\n",
    "}\n",
    "\n",
    "print(\"Image Count Statistics per Individual:\")\n",
    "for stat, value in num_images_stats.items():\n",
    "    print(f\"{stat.capitalize()}: {value:.2f}\")"
   ]
  },
  {
   "cell_type": "code",
   "execution_count": null,
   "metadata": {},
   "outputs": [],
   "source": [
    "top_n_individuals = 10\n",
    "\n",
    "label_counts = {label: len(images) for label, images in labels_dict.items()}\n",
    "top_individuals = sorted(label_counts.items(), key=lambda item: item[1], reverse=True)[:top_n_individuals]\n",
    "top_labels, top_counts = zip(*top_individuals)\n",
    "\n",
    "plt.figure(figsize=(10, 5))\n",
    "plt.bar(top_labels, top_counts)\n",
    "plt.xlabel(\"Individual IDs\")\n",
    "plt.ylabel(\"Number of Images\")\n",
    "plt.title(f\"Top {top_n_individuals} Individuals with Most Images\")\n",
    "plt.show()"
   ]
  },
  {
   "cell_type": "code",
   "execution_count": null,
   "metadata": {},
   "outputs": [],
   "source": [
    "# Collect image sizes\n",
    "image_sizes = []\n",
    "for img_name in images:\n",
    "    img_path = os.path.join(images_path, img_name)\n",
    "    img = Image.open(img_path)\n",
    "    image_sizes.append(img.size)\n",
    "\n",
    "widths, heights = zip(*image_sizes)\n",
    "\n",
    "plt.figure(figsize=(10, 8))\n",
    "plt.hist2d(widths, heights, bins=[50, 50], cmap=\"Blues\")\n",
    "plt.colorbar(label=\"Number of Images\")\n",
    "plt.xlabel(\"Width (pixels)\")\n",
    "plt.ylabel(\"Height (pixels)\")\n",
    "plt.title(\"Distribution of Image Sizes (Width x Height)\")\n",
    "plt.show()\n"
   ]
  }
 ],
 "metadata": {
  "kernelspec": {
   "display_name": "Python 3",
   "language": "python",
   "name": "python3"
  },
  "language_info": {
   "codemirror_mode": {
    "name": "ipython",
    "version": 3
   },
   "file_extension": ".py",
   "mimetype": "text/x-python",
   "name": "python",
   "nbconvert_exporter": "python",
   "pygments_lexer": "ipython3",
   "version": "3.10.14"
  }
 },
 "nbformat": 4,
 "nbformat_minor": 2
}
