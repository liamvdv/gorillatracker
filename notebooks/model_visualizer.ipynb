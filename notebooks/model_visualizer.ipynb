{
 "cells": [
  {
   "cell_type": "code",
   "execution_count": null,
   "metadata": {},
   "outputs": [],
   "source": [
    "import os\n",
    "import random\n",
    "\n",
    "import cv2\n",
    "import gorillatracker.scripts.segment_dataset as segment_dataset\n",
    "import gorillatracker.utils.cutout_helpers as cutout_helpers\n",
    "from matplotlib import pyplot as plt\n",
    "\n",
    "full_image_path = \"/workspaces/gorillatracker/data/ground_truth/cxl/full_images\"\n",
    "body_dir = \"/workspaces/gorillatracker/data/derived_data/cxl/yolov8n_gorillabody_ybyh495y/body_images\""
   ]
  },
  {
   "cell_type": "code",
   "execution_count": null,
   "metadata": {},
   "outputs": [],
   "source": [
    "image = random.choice(os.listdir(full_image_path))\n",
    "full_image = cv2.imread(os.path.join(full_image_path, image))\n",
    "body_image = cv2.imread(os.path.join(body_dir, image))\n",
    "bbox = cutout_helpers.get_cutout_bbox(full_image, body_image)\n",
    "\n",
    "full_image = cv2.cvtColor(full_image, cv2.COLOR_BGR2RGB)\n",
    "\n",
    "segmented_body = segment_dataset.segment_image(full_image, bbox)\n",
    "plt.figure(figsize=(10, 10))\n",
    "plt.axis(\"off\")\n",
    "plt.imshow(segmented_body)\n",
    "plt.show()\n",
    "plt.figure(figsize=(10, 10))\n",
    "plt.axis(\"off\")\n",
    "plt.imshow(full_image)\n",
    "plt.show()"
   ]
  }
 ],
 "metadata": {
  "kernelspec": {
   "display_name": "Python 3",
   "language": "python",
   "name": "python3"
  },
  "language_info": {
   "codemirror_mode": {
    "name": "ipython",
    "version": 3
   },
   "file_extension": ".py",
   "mimetype": "text/x-python",
   "name": "python",
   "nbconvert_exporter": "python",
   "pygments_lexer": "ipython3",
   "version": "3.10.13"
  }
 },
 "nbformat": 4,
 "nbformat_minor": 2
}
