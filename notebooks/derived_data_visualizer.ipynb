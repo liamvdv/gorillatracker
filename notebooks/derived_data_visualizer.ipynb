{
 "cells": [
  {
   "cell_type": "code",
   "execution_count": null,
   "metadata": {},
   "outputs": [],
   "source": [
    "import os\n",
    "import random\n",
    "import cv2\n",
    "import gorillatracker.utils.visualizer_helpers as visualizer_helpers\n",
    "import gorillatracker.utils.cutout_helpers as cutout_helpers\n",
    "from matplotlib import pyplot as plt\n",
    "\n",
    "full_image_path = \"/workspaces/gorillatracker/data/ground_truth/cxl/full_images\"\n",
    "cutout_path = \"/workspaces/gorillatracker/data/derived_data/cxl/yolov8n_gorillabody_ybyh495y/body_bbox\"\n",
    "\n",
    "full_images = os.listdir(full_image_path)\n",
    "cutouts = os.listdir(cutout_path)\n",
    "\n",
    "cutout = random.choice(cutouts)\n",
    "filename, _ = os.path.splitext(cutout)\n",
    "\n",
    "visualizer_helpers.show_yolo_box(f\"{full_image_path}/{filename}.png\", f\"{cutout_path}/{cutout}\")"
   ]
  },
  {
   "cell_type": "code",
   "execution_count": null,
   "metadata": {},
   "outputs": [],
   "source": [
    "full_image_path = \"/workspaces/gorillatracker/data/ground_truth/cxl/full_images\"\n",
    "image_dir = \"/workspaces/gorillatracker/data/derived_data/cxl/yolov8n_gorillabody_ybyh495y/body_images\"\n",
    "cutout_dir = \"/workspaces/gorillatracker/data/ground_truth/cxl/face_images\"\n",
    "image = random.choice(os.listdir(image_dir))\n",
    "full_image_path = os.path.join(full_image_path, image)\n",
    "face_image_path = os.path.join(cutout_dir, image)\n",
    "body_image_path = os.path.join(image_dir, image)\n",
    "\n",
    "full_image = cv2.imread(full_image_path)\n",
    "face_image = cv2.imread(face_image_path)\n",
    "body_image = cv2.imread(body_image_path)\n",
    "\n",
    "face_bbox = cutout_helpers.get_cutout_bbox(full_image, face_image)\n",
    "body_bbox = cutout_helpers.get_cutout_bbox(full_image, body_image)\n",
    "\n",
    "visualizer_helpers.draw_bbox(full_image, face_bbox)\n",
    "visualizer_helpers.draw_bbox(full_image, body_bbox)\n",
    "full_image = cv2.cvtColor(full_image, cv2.COLOR_BGR2RGB)\n",
    "plt.imshow(full_image)\n",
    "plt.axis(\"off\")\n",
    "plt.show()"
   ]
  }
 ],
 "metadata": {
  "kernelspec": {
   "display_name": "Python 3",
   "language": "python",
   "name": "python3"
  },
  "language_info": {
   "codemirror_mode": {
    "name": "ipython",
    "version": 3
   },
   "file_extension": ".py",
   "mimetype": "text/x-python",
   "name": "python",
   "nbconvert_exporter": "python",
   "pygments_lexer": "ipython3",
   "version": "3.10.13"
  }
 },
 "nbformat": 4,
 "nbformat_minor": 2
}
