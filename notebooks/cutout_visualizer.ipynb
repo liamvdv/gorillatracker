{
 "cells": [
  {
   "cell_type": "code",
   "execution_count": null,
   "metadata": {},
   "outputs": [],
   "source": [
    "import os\n",
    "import cv2\n",
    "import random\n",
    "import gorillatracker.utils.cutout_helpers as cutout_helpers\n",
    "import gorillatracker.utils.visualizer_helpers as visualizer_helpers\n",
    "\n",
    "base_path = \"/workspaces/gorillatracker/data/ground_truth\"\n",
    "full_images_path = f\"{base_path}/cxl/full_images/\"\n",
    "faces_images_path = f\"{base_path}/cxl/face_images/\"\n",
    "faces_images = os.listdir(faces_images_path)"
   ]
  },
  {
   "cell_type": "code",
   "execution_count": null,
   "metadata": {},
   "outputs": [],
   "source": [
    "image = random.choice(faces_images)\n",
    "face_image = cv2.imread(f\"{faces_images_path}/{image}\")\n",
    "full_image = cv2.imread(f\"{full_images_path}/{image}\")\n",
    "bbox = cutout_helpers.get_cutout_bbox(full_image, face_image)\n",
    "visualizer_helpers.show_bbox(full_image, bbox)"
   ]
  }
 ],
 "metadata": {
  "kernelspec": {
   "display_name": "Python 3",
   "language": "python",
   "name": "python3"
  },
  "language_info": {
   "codemirror_mode": {
    "name": "ipython",
    "version": 3
   },
   "file_extension": ".py",
   "mimetype": "text/x-python",
   "name": "python",
   "nbconvert_exporter": "python",
   "pygments_lexer": "ipython3",
   "version": "3.10.13"
  }
 },
 "nbformat": 4,
 "nbformat_minor": 2
}
