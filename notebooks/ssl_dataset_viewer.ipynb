{
 "cells": [
  {
   "cell_type": "code",
   "execution_count": null,
   "metadata": {},
   "outputs": [],
   "source": [
    "from pathlib import Path\n",
    "\n",
    "from gorillatracker.data.nlet import NletDataModule, build_quadlet\n",
    "from gorillatracker.data.ssl import SSLDataset\n",
    "from gorillatracker.ssl_pipeline.ssl_config import SSLConfig\n",
    "from torchvision.transforms import Resize\n",
    "\n",
    "DATA_DIR = Path(\"/workspaces/gorillatracker/video_data/cropped-images/2024-04-18\")\n",
    "split_path = Path(\n",
    "    \"/workspaces/gorillatracker/data/splits/SSL/SSL-1k-woCXL_1k-100-1k_split_20240716_1037.pkl\"\n",
    ")\n",
    "\n",
    "\n",
    "DATASET_CLS = SSLDataset\n",
    "\n",
    "# Sample everything\n",
    "CONFIG = SSLConfig(\n",
    "    tff_selection=\"movement\",\n",
    "    negative_mining=\"overlapping\",\n",
    "    n_samples=100_000,\n",
    "    feature_types=[\"body_with_face\"],\n",
    "    min_confidence=0.8,\n",
    "    min_images_per_tracking=50,\n",
    "    split_path=split_path,\n",
    "    width_range=(80, None),\n",
    "    height_range=(80, None),\n",
    "    movement_delta=0.05,\n",
    ")\n",
    "\n",
    "data_module = NletDataModule(\n",
    "    data_dir=DATA_DIR,\n",
    "    dataset_class=DATASET_CLS,\n",
    "    nlet_builder=build_quadlet,\n",
    "    batch_size=64,\n",
    "    workers=10,\n",
    "    model_transforms=Resize((224, 224)),\n",
    "    training_transforms=lambda x: x,\n",
    "    dataset_names=[\"Showcase\"],\n",
    "    ssl_config=CONFIG,\n",
    ")\n",
    "\n",
    "data_module.setup(\"fit\")"
   ]
  },
  {
   "cell_type": "code",
   "execution_count": null,
   "metadata": {},
   "outputs": [],
   "source": [
    "import matplotlib.pyplot as plt\n",
    "from PIL import Image\n",
    "\n",
    "for batch in data_module.train_dataloader():\n",
    "    ids, _, _ = batch\n",
    "    nlet = [Path(t[0]) for t in ids]\n",
    "    fig, axes = plt.subplots(1, len(nlet), figsize=(20, 4))\n",
    "    for ax, path in zip(axes, nlet):\n",
    "        img = Image.open(path)\n",
    "        ax.imshow(img)\n",
    "        ax.axis(\"off\")\n",
    "    break"
   ]
  }
 ],
 "metadata": {
  "kernelspec": {
   "display_name": "Python 3",
   "language": "python",
   "name": "python3"
  },
  "language_info": {
   "codemirror_mode": {
    "name": "ipython",
    "version": 3
   },
   "file_extension": ".py",
   "mimetype": "text/x-python",
   "name": "python",
   "nbconvert_exporter": "python",
   "pygments_lexer": "ipython3",
   "version": "3.10.14"
  }
 },
 "nbformat": 4,
 "nbformat_minor": 2
}
