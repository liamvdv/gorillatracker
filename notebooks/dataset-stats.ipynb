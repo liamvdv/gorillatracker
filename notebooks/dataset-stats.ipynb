{
 "cells": [
  {
   "cell_type": "code",
   "execution_count": 3,
   "metadata": {},
   "outputs": [
    {
     "name": "stdout",
     "output_type": "stream",
     "text": [
      "{'AY04_R040_20190727_010.png', 'RC40_R106_20220913_301lSideburn.png', 's92_R030_20211111_289.png', 'AP02_R066_20221118_218dMumYoung.png', '0E00_R065_20211024_094.png', 'JB00_R146_20180919_059.png', 'OE02_R066_20210827_055 Caliope.png', 'HU40_R198_20200116_184b.png', 'b0_R510_20220504_132ArmLeftBad.png', 'DU01_R030_20220325_025b .png', 'NN03_R019_20220328_152 Prosa.png', 'JB00_R146_20181003_180.png', 'AP02_R066_20221118_218cMumYoung.png', 'AP02_R066_20221118_218eMumYoung.png', 'JZ00_R507_20210107_060aSilverback.png', 'RC40_R106_20220913_301gSideburn.png', 'AP03_R066_20221118_162bFort.png', 'HU00_R146_20180903_010.png', 'RC01_R106_20221017_039bOneEye.png', 's45_R456_20190529_360.png', 'AP01_R066_20221118_176bMumBig.png', 'JZ01_R508_20210504_241eMumOfJZ41.png', 'RC41_R106_20220913_316aBracket.png', 'RC40_R106_20220913_301jSideburn.png', 'AP02_R066_20221118_218aMumYoung.png', 'JZ00_R508_20210504_213aSilverback.png', 'AP00_R066_20221118_127bSilver.png', 'TU04_R118_20220314_310a.png', 'AP01_R066_20221118_175aMumBig.png', 'AP00_R066_20221118_133bSilver.png', 'RC02_R106_20220913_343eBald.png', 'PL60_R465_20211017_096.png', 'AP02_R066_20221118_218bMumYoung.png', 'JZ00_R507_20210107_061aSilverback.png', 'HU40_R198_20200116_184c.png', 'TU03_R118_20220314_284d.png', 'RC01_R106_20221017_041iOneEye.png', 'AP01_R066_20221118_175qMumBig.png', 'NN20_R019_20220107_209c Mena.png', 'TU04_R118_20220314_310b.png', 'RC43_R106_20221017_063eJuvSonOfRC01.png', 'JZ00_R507_20210107_060bSilverback.png', 'PL60_R465_20211017_099.png', 'ZU02_R172_20190406_397a.png', 'NN20_R019_20220107_209d Mena.png', 'S45_R456_20190430_043.png', 'AP00_R066_20221118_115aSilver.png', 'b0_R510_20220429_088aArmLeftBad.png', 'PL60_R465_20211017_098.png', 'ZU06_R172_20210719_433.png', 'RC40_R106_20220913_301iSideburn.png', 'TU00_R118_20220314_306a.png', 'b0_R510_20220429_063eArmLeftBad.png', 'RC41_R106_20221017_025cBracket.png', 'AP01_R066_20221118_175hMumBig.png', 'TU00_R118_20220314_306b.png', 'S45_R456_20190430_045.png', 'RC40_R106_20220913_301kSideburn.png', 'YE01_R035_20191012_079 .png', 's92_R030_20210928_118.png', 'HU20_R198_20200117_229a.png', 'GR01_R456_20190316_016gr.png', 'AP00_R066_20221118_132aSilver.png', 'OE00 R066_20210826_019.png', 'JZ00_R507_20210107_060eSilverback.png', 'AP03_R066_20221118_158bFort.png', 'RC41_R106_20221017_025dBracket.png', 'ES02_R066_20201019_035d.png', 'HU20_R198_20200117_229b.png', 'RC01_R106_20221017_039cOneEye.png', 'JZ01_R508_20210504_242bMumOfJZ41.png', 'AP02_R066_20221118_218gMumYoung.png', 'RC41_R106_20221017_025bBracket.png', 'JZ01_R508_20210504_244MumOfJZ41.png', 'S45_R456_20190430_051b.png', 'YE03_R035_20211109_019b.png', 'JP01_R033_20220407_015.png', 'TU00_R118_20220314_306c.png', 'AP01_R172_20220913_151gMumBig.png', 'US01_R033_20220116_377b Venus.png', 'RC40_R106_20220913_301hSideburn.png', 'Du01_R030_20220325_024 .png', 'JZ00_R507_20210107_060cSilverback.png', 'b0_R510_20220429_088bArmLeftBad.png', 'RC41_R106_20221017_025fBracket.png', 'JZ00_R507_20210107_061cSilverback.png', 'RC43_R106_20221017_065eJuvSonOfRC01.png', 'GR00_R065_20181202_340.png', 'AY04_R040_20190727_008.png', 'RC41_R106_20221017_026bBracket.png', 'RC40_R106_20220913_301mSideburn.png', 'US43_R020_20220205_074b sonIris.png', 'S45_R456_20190430_051a.png', 'JZ00_R507_20210107_050Silverback.png', 'b0_R510_20220429_100ArmLeftBad.png', 's92_R169_20211013_321.png', 'AP01_R066_20221118_176cMumBig.png', 'RC42_R106_20221017_047eEyeBoil.png'}\n"
     ]
    }
   ],
   "source": [
    "import os\n",
    "\n",
    "base_path = \"/workspaces/gorillatracker/data/ground_truth\"\n",
    "full_images_path = f\"{base_path}/cxl/full_images\"\n",
    "faces_images_path = f\"{base_path}/rohan-cxl/face_images\"\n",
    "full_images = set(os.listdir(full_images_path))\n",
    "faces_images = set(os.listdir(faces_images_path))\n",
    "\n",
    "print(full_images - faces_images)\n"
   ]
  }
 ],
 "metadata": {
  "kernelspec": {
   "display_name": "Python 3",
   "language": "python",
   "name": "python3"
  },
  "language_info": {
   "codemirror_mode": {
    "name": "ipython",
    "version": 3
   },
   "file_extension": ".py",
   "mimetype": "text/x-python",
   "name": "python",
   "nbconvert_exporter": "python",
   "pygments_lexer": "ipython3",
   "version": "3.10.13"
  }
 },
 "nbformat": 4,
 "nbformat_minor": 2
}
