{
 "cells": [
  {
   "cell_type": "code",
   "execution_count": null,
   "metadata": {},
   "outputs": [],
   "source": [
    "import os\n",
    "import matplotlib.pyplot as plt\n",
    "import pandas as pd\n",
    "import datetime as dt\n",
    "from pathlib import Path"
   ]
  },
  {
   "cell_type": "code",
   "execution_count": null,
   "metadata": {},
   "outputs": [],
   "source": [
    "dir_path = \"/workspaces/gorillatracker/data/splits/ground_truth-cxl-face_images-kfold-openset-seed-42-trainval-80-test-20-k-5\""
   ]
  },
  {
   "cell_type": "code",
   "execution_count": null,
   "metadata": {},
   "outputs": [],
   "source": [
    "dirs = os.listdir(dir_path)"
   ]
  },
  {
   "cell_type": "code",
   "execution_count": null,
   "metadata": {},
   "outputs": [],
   "source": [
    "#create a dataframe for each directory\n",
    "df: list[pd.DataFrame] = []\n",
    "\n",
    "for i, d in enumerate(dirs):\n",
    "    data = []\n",
    "    solitary_data = 0\n",
    "    # Extract data from filenames\n",
    "    for filename in os.listdir(os.path.join(dir_path, d)):\n",
    "        parts = filename.split('_')\n",
    "        if len(parts) >= 4:\n",
    "            id_, camid, date, id2 = parts[:4]\n",
    "            solitary = False\n",
    "            if(len(id_) != 4):  # if != 4, then the gorilla is a solitary one without a group\n",
    "                # print(f\"Solitary in {filename}\")\n",
    "                solitary_data += 1\n",
    "                solitary = True\n",
    "            Groupid = id_[:2] if not solitary else \"SOLITARY\"\n",
    "            id_ = id_[2:] if not solitary else ''.join(filter(str.isdigit, id_))\n",
    "            id2 = ''.join(filter(str.isdigit, id2)) # remove non-numeric characters\n",
    "            date = dt.datetime.strptime(date, '%Y%m%d').date()\n",
    "            data.append((Groupid, id_, camid, date, id2, f\"{dir_path}/{d}/{filename}\"))\n",
    "        else:\n",
    "            print(f\"Invalid filename {filename}\")\n",
    "            \n",
    "    # Create a DataFrame\n",
    "    df.append(pd.DataFrame(data, columns=['GROUP', 'ID', 'CAM', 'DATE', 'ID2', 'FILENAME']))\n",
    "    print(f\"Directory {d} had {solitary_data} images of solitary gorillas with no group\")"
   ]
  },
  {
   "cell_type": "code",
   "execution_count": null,
   "metadata": {},
   "outputs": [],
   "source": [
    "print(df[2][\"FILENAME\"][0])"
   ]
  },
  {
   "cell_type": "code",
   "execution_count": null,
   "metadata": {},
   "outputs": [],
   "source": [
    "for i, d in enumerate(dirs):\n",
    "    print(f\"{d}:\")\n",
    "    print(f\"\\t Images: {df[i].shape[0]}\")\n",
    "    print(f\"\\t Individuals: {df[i].groupby(['GROUP', 'ID']).ngroups}\")\n",
    "    print(f\"\\t Groups: {df[i]['GROUP'].nunique()}\")\n",
    "    print(f\"\\t Cameras: {df[i]['CAM'].nunique()}\")\n",
    "    print(f\"\\t Days: {df[i]['DATE'].nunique()}\")\n",
    "    print(f\"\\t DateRange: {df[i]['DATE'].min()} - {df[i]['DATE'].max()}\")\n",
    "    print(f\"\\t Video_clips: {df[i].groupby(['CAM', 'DATE', 'ID2']).ngroups}\")\n",
    "    print(f\"\\t Videos: {df[i].groupby(['CAM', 'DATE']).ngroups}\")"
   ]
  },
  {
   "cell_type": "code",
   "execution_count": null,
   "metadata": {},
   "outputs": [],
   "source": [
    "for i, d in enumerate(dirs):\n",
    "    unique_videos = df[i].drop_duplicates(subset=['GROUP', 'ID', 'CAM', 'DATE'])\n",
    "    videos_per_id = unique_videos.groupby(['GROUP', 'ID']).size()\n",
    "    videos_count_distribution = videos_per_id.value_counts().sort_index()\n",
    "    plt.figure(figsize=(5, 2))\n",
    "    plt.bar(videos_count_distribution.index, videos_count_distribution.values)\n",
    "    plt.xlabel('Num Videos/ID')\n",
    "    plt.ylabel('Individuals')\n",
    "    plt.title(f'{d}: Number of Videos per ID')\n",
    "    plt.xticks(videos_count_distribution.index)\n",
    "    plt.show()\n",
    "    \n"
   ]
  },
  {
   "cell_type": "code",
   "execution_count": null,
   "metadata": {},
   "outputs": [],
   "source": [
    "df_combined = pd.concat(df)\n",
    "print(f\"Combined:\")\n",
    "print(f\"\\t Images: {len(df_combined)}\")\n",
    "print(f\"\\t Individuals: {df_combined.groupby(['GROUP', 'ID']).ngroups}\")\n",
    "print(f\"\\t Groups: {df_combined['GROUP'].nunique()}\")\n",
    "print(f\"\\t Cameras: {df_combined['CAM'].nunique()}\")\n",
    "print(f\"\\t Days: {df_combined['DATE'].nunique()}\")\n",
    "print(f\"\\t DateRange: {df_combined['DATE'].min()} - {df_combined['DATE'].max()}\")\n",
    "print(f\"\\t Video_clips: {df_combined.groupby(['CAM', 'DATE', 'ID2']).ngroups}\")\n",
    "print(f\"\\t Videos: {df_combined.groupby(['CAM', 'DATE']).ngroups}\")\n",
    "\n",
    "unique_videos = df_combined.drop_duplicates(subset=['GROUP', 'ID', 'CAM', 'DATE', 'ID2'])\n",
    "videos_per_id = unique_videos.groupby(['GROUP', 'ID']).size()\n",
    "videos_count_distribution = videos_per_id.value_counts().sort_index()\n",
    "plt.figure(figsize=(5, 2))\n",
    "plt.bar(videos_count_distribution.index, videos_count_distribution.values)\n",
    "plt.xlabel('Num Videos/ID')\n",
    "plt.ylabel('Individuals')\n",
    "plt.title(f'Complete DS: Number of Videos per ID')\n",
    "plt.xticks(videos_count_distribution.index)\n",
    "plt.show()"
   ]
  },
  {
   "cell_type": "code",
   "execution_count": null,
   "metadata": {},
   "outputs": [],
   "source": [
    "for i, d in enumerate(dirs):\n",
    "    unique_videos = df[i].drop_duplicates(subset=['GROUP', 'ID', 'CAM', 'DATE', 'ID2'])\n",
    "    videos_per_id = unique_videos.groupby(['GROUP', 'ID']).size()\n",
    "    videos_count_distribution = videos_per_id.value_counts().sort_index()\n",
    "    plt.figure(figsize=(5, 2))\n",
    "    plt.bar(videos_count_distribution.index, videos_count_distribution.values)\n",
    "    plt.xlabel('Num VideoClips/ID')\n",
    "    plt.ylabel('Individuals')\n",
    "    plt.title(f'{d}: Number of Video Clips per ID')\n",
    "    plt.xticks(videos_count_distribution.index)\n",
    "    plt.show()"
   ]
  },
  {
   "cell_type": "code",
   "execution_count": null,
   "metadata": {},
   "outputs": [],
   "source": [
    "for i, d in enumerate(dirs):\n",
    "    unique_videos = df[i].drop_duplicates(subset=['GROUP', 'ID', 'CAM'])\n",
    "    videos_per_id = unique_videos.groupby(['GROUP', 'ID']).size()\n",
    "    videos_count_distribution = videos_per_id.value_counts().sort_index()\n",
    "    plt.figure(figsize=(5, 2))\n",
    "    plt.bar(videos_count_distribution.index, videos_count_distribution.values)\n",
    "    plt.xlabel('Num Cam/ID')\n",
    "    plt.ylabel('Individuals')\n",
    "    plt.title(f'{d}: Number of Cameras per ID')\n",
    "    plt.xticks(videos_count_distribution.index)\n",
    "    plt.show()"
   ]
  },
  {
   "cell_type": "code",
   "execution_count": null,
   "metadata": {},
   "outputs": [],
   "source": [
    "for i, d in enumerate(dirs):\n",
    "    unique_videos = df[i].drop_duplicates(subset=['GROUP', 'ID', 'CAM', 'DATE', 'ID2'])\n",
    "    images_per_camera = unique_videos.groupby('CAM').size()\n",
    "    plt.figure(figsize=(10, 5))\n",
    "    plt.bar(images_per_camera.index, images_per_camera.values)\n",
    "    plt.xlabel('Camera ID')\n",
    "    plt.ylabel('Images')\n",
    "    plt.title(f'{d}: Images/Camera')\n",
    "    plt.show()"
   ]
  },
  {
   "cell_type": "code",
   "execution_count": null,
   "metadata": {},
   "outputs": [],
   "source": [
    "for i, d in enumerate(dirs):\n",
    "    unique_videos = df[i].drop_duplicates(subset=['GROUP', 'ID', 'CAM', 'DATE', 'ID2'])\n",
    "    individuals_per_camera = unique_videos.groupby(['CAM', 'GROUP', 'ID']).size().reset_index().groupby('CAM').size()\n",
    "    plt.figure(figsize=(10, 5))\n",
    "    plt.bar(individuals_per_camera.index, individuals_per_camera.values)\n",
    "    plt.xlabel('Camera ID')\n",
    "    plt.ylabel('Individuals')\n",
    "    plt.title(f'{d}: Individuals/Camera')\n",
    "    plt.show()"
   ]
  },
  {
   "cell_type": "code",
   "execution_count": null,
   "metadata": {},
   "outputs": [],
   "source": [
    "# combined\n",
    "df_combined = pd.concat(df)\n",
    "unique_videos = df_combined.drop_duplicates(subset=['GROUP', 'ID', 'CAM', 'DATE', 'ID2'])\n",
    "images_per_camera = unique_videos.groupby('CAM').size()\n",
    "plt.figure(figsize=(10, 5))\n",
    "plt.bar(images_per_camera.index, images_per_camera.values)\n",
    "plt.xlabel('Camera ID')\n",
    "plt.ylabel('Images')\n",
    "plt.title('Combined: Images/Camera')\n",
    "plt.xticks(rotation=90)\n",
    "plt.show()\n",
    "\n",
    "# make this plot a histogram with bins of 10 images per camera and show the number of cameras in each bin\n",
    "# center the bins\n",
    "plt.figure(figsize=(10, 5))\n",
    "plt.hist(images_per_camera, bins=range(0, 80, 5), align='left', rwidth=0.9)\n",
    "plt.xticks(ticks=range(0, 80, 5), labels=[f'{i} - {i+5}' for i in range(0, 80, 5)], rotation=90)\n",
    "plt.xlabel('Images/Camera')\n",
    "plt.ylabel('Cameras')\n",
    "plt.title('Combined: Images/Camera')\n",
    "plt.show()"
   ]
  },
  {
   "cell_type": "code",
   "execution_count": null,
   "metadata": {},
   "outputs": [],
   "source": [
    "for i, d in enumerate(dirs):\n",
    "    unique_videos = df[i].drop_duplicates(subset=['GROUP', 'ID', 'CAM', 'DATE', 'ID2'])\n",
    "    unique_individuals_per_group = unique_videos.groupby(['GROUP', 'ID']).size().reset_index().groupby('GROUP').size()\n",
    "    plt.figure(figsize=(10, 5))\n",
    "    plt.bar(unique_individuals_per_group.index, unique_individuals_per_group.values)\n",
    "    plt.xlabel('Group ID')\n",
    "    plt.ylabel('Individuals')\n",
    "    plt.title(f'{d}: Individuals/Group')\n",
    "    plt.xticks(rotation=90)\n",
    "    plt.show()"
   ]
  },
  {
   "cell_type": "code",
   "execution_count": null,
   "metadata": {},
   "outputs": [],
   "source": [
    "def categorize_id(id_):\n",
    "    id_num = int(id_)\n",
    "    if id_num == 0:\n",
    "        return 'Silverback'\n",
    "    elif 1 <= id_num <= 19:\n",
    "        return 'Adult female'\n",
    "    elif 20 <= id_num <= 39:\n",
    "        return 'Blackback'\n",
    "    elif 40 <= id_num <= 59:\n",
    "        return 'Adolescent & Juvenil'\n",
    "    elif 60 <= id_num <= 79:\n",
    "        return 'Infant'\n",
    "    else:\n",
    "        return 'Unknown'\n",
    "\n",
    "for i, d in enumerate(dirs):\n",
    "    unique_individuals = df[i].drop_duplicates(subset=['GROUP', 'ID']).copy()\n",
    "    # filter out non numeric IDs\n",
    "    unique_individuals = unique_individuals[unique_individuals['ID'].str.isnumeric()]\n",
    "    \n",
    "    # Categorize each ID and add to the DataFrame using assign()\n",
    "    unique_individuals = unique_individuals.assign(Type=unique_individuals['ID'].apply(categorize_id))\n",
    "    \n",
    "    # Calculate the number of each type\n",
    "    type_distribution = unique_individuals['Type'].value_counts().sort_index()\n",
    "    \n",
    "    \n",
    "    # Plot the distribution of types\n",
    "    plt.figure(figsize=(10, 5))\n",
    "    plt.bar(type_distribution.index, type_distribution.values)\n",
    "    plt.xlabel('Type')\n",
    "    plt.ylabel('Number of Individuals')\n",
    "    plt.title(f'{d}: Types of Individuals')\n",
    "    plt.show()"
   ]
  },
  {
   "cell_type": "code",
   "execution_count": null,
   "metadata": {},
   "outputs": [],
   "source": [
    "# plot the resolution of all combined images \n",
    "\n",
    "from PIL import Image\n",
    "\n",
    "img_sizes = []\n",
    "for row in df_combined.itertuples():\n",
    "    img = Image.open(os.path.join(dir_path, row[6]))\n",
    "    img_sizes.append(img.size)\n",
    "        \n",
    "len(img_sizes)"
   ]
  },
  {
   "cell_type": "code",
   "execution_count": null,
   "metadata": {},
   "outputs": [],
   "source": [
    "# make a matrix histogram of the image sizes (width x height)\n",
    "from matplotlib.colors import Colormap, LogNorm\n",
    "import numpy as np\n",
    "\n",
    "plt.figure(figsize=(10, 5))\n",
    "amounts_x, amounts_y = [x[0] for x in img_sizes], [x[1] for x in img_sizes]\n",
    "norm = LogNorm()\n",
    "plt.hist2d(amounts_x, amounts_y, bins=range(0, 500, 50), cmap=\"binary\", norm=norm)\n",
    "for i in range(0, 450, 50):\n",
    "    for j in range(0, 450, 50):\n",
    "        plt.text(i+25, j+25, f\"{len([1 for x in img_sizes if i <= x[0] < i+50 and j <= x[1] < j+50])}\", color='red', ha='center', va='center')\n",
    "plt.xlabel('Width')\n",
    "plt.ylabel('Height')\n",
    "plt.title('Image Sizes')\n",
    "# plt.colorbar()\n",
    "plt.grid()\n",
    "plt.show()"
   ]
  },
  {
   "cell_type": "code",
   "execution_count": null,
   "metadata": {},
   "outputs": [],
   "source": [
    "# plot one low mid and high resolution image\n",
    "very_low_res = [x for x in img_sizes if x[0] < 50 and x[1] < 50][1]\n",
    "low_res = [x for x in img_sizes if 50 <= x[0] < 100 and 50 <= x[1] < 100][0]\n",
    "mid_res = [x for x in img_sizes if 100 <= x[0] < 200 and 100 <= x[1] < 200][0]\n",
    "high_res = [x for x in img_sizes if x[0] > 200 and x[1] > 200][21]\n",
    "\n",
    "plt.figure(figsize=(20, 5))\n",
    "plt.subplot(1, 4, 1)\n",
    "plt.imshow(Image.open(os.path.join(dir_path, df_combined.iloc[img_sizes.index(very_low_res)]['FILENAME'])))\n",
    "plt.title(f\"Very Low Resolution: {very_low_res}\")\n",
    "plt.axis('off')\n",
    "plt.subplot(1, 4, 2)\n",
    "plt.imshow(Image.open(os.path.join(dir_path, df_combined.iloc[img_sizes.index(low_res)]['FILENAME'])))\n",
    "plt.title(f\"Low Resolution: {low_res}\")\n",
    "plt.axis('off')\n",
    "plt.subplot(1, 4, 3)\n",
    "plt.imshow(Image.open(os.path.join(dir_path, df_combined.iloc[img_sizes.index(mid_res)]['FILENAME'])))\n",
    "plt.title(f\"Mid Resolution: {mid_res}\")\n",
    "plt.axis('off')\n",
    "plt.subplot(1, 4, 4)\n",
    "plt.imshow(Image.open(os.path.join(dir_path, df_combined.iloc[img_sizes.index(high_res)]['FILENAME'])))\n",
    "plt.title(f\"High Resolution: {high_res}\")\n",
    "plt.axis('off')\n",
    "plt.show() "
   ]
  }
 ],
 "metadata": {
  "kernelspec": {
   "display_name": "Python 3",
   "language": "python",
   "name": "python3"
  },
  "language_info": {
   "codemirror_mode": {
    "name": "ipython",
    "version": 3
   },
   "file_extension": ".py",
   "mimetype": "text/x-python",
   "name": "python",
   "nbconvert_exporter": "python",
   "pygments_lexer": "ipython3",
   "version": "3.10.14"
  }
 },
 "nbformat": 4,
 "nbformat_minor": 2
}
