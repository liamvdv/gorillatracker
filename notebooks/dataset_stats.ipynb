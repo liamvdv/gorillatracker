{
 "cells": [
  {
   "cell_type": "code",
   "execution_count": null,
   "metadata": {},
   "outputs": [],
   "source": [
    "import os\n",
    "import matplotlib.pyplot as plt\n",
    "import pandas as pd\n",
    "import datetime as dt"
   ]
  },
  {
   "cell_type": "code",
   "execution_count": null,
   "metadata": {},
   "outputs": [],
   "source": [
    "dir_path = \"/workspaces/gorillatracker/data/splits/ground_truth-cxl-face_images-kfold-openset-seed-42-trainval-80-test-20-k-5\""
   ]
  },
  {
   "cell_type": "code",
   "execution_count": null,
   "metadata": {},
   "outputs": [],
   "source": [
    "dirs = os.listdir(dir_path)\n",
    "df: list[pd.DataFrame] = []"
   ]
  },
  {
   "cell_type": "code",
   "execution_count": null,
   "metadata": {},
   "outputs": [],
   "source": [
    "#create a dataframe for each directory\n",
    "for i, d in enumerate(dirs):\n",
    "    data = []\n",
    "    wrong_data = 0\n",
    "    # Extract data from filenames\n",
    "    for filename in os.listdir(os.path.join(dir_path, d)):\n",
    "        parts = filename.split('_')\n",
    "        if len(parts) == 4:\n",
    "            id_, camid, date, id2 = parts\n",
    "            if(len(id_) != 4): \n",
    "                wrong_data += 1\n",
    "                continue\n",
    "            Groupid = id_[:2]\n",
    "            id_ = id_[2:]\n",
    "            id2 = ''.join(filter(str.isdigit, id2)) # remove non-numeric characters\n",
    "            date = dt.datetime.strptime(date, '%Y%m%d').date()\n",
    "            data.append((Groupid, id_, camid, date, id2))\n",
    "            \n",
    "    # Create a DataFrame\n",
    "    df.append(pd.DataFrame(data, columns=['GROUP', 'ID', 'CAM', 'DATE', 'ID2']))\n",
    "    print(f\"Directory {d} had {wrong_data} wrong named images\")"
   ]
  },
  {
   "cell_type": "markdown",
   "metadata": {},
   "source": [
    "# general stats"
   ]
  },
  {
   "cell_type": "code",
   "execution_count": null,
   "metadata": {},
   "outputs": [],
   "source": [
    "for i, d in enumerate(dirs):\n",
    "    print(f\"{d}:\")\n",
    "    print(f\"\\t Images: {df[i].shape[0]}\")\n",
    "    print(f\"\\t Individuals: {df[i].groupby(['GROUP', 'ID']).ngroups}\")\n",
    "    print(f\"\\t Groups: {df[i]['GROUP'].nunique()}\")\n",
    "    print(f\"\\t Cameras: {df[i]['CAM'].nunique()}\")\n",
    "    print(f\"\\t Days: {df[i]['DATE'].nunique()}\")\n",
    "    print(f\"\\t DateRange: {df[i]['DATE'].min()} - {df[i]['DATE'].max()}\")\n",
    "    print(f\"\\t Video_clips: {df[i].groupby(['CAM', 'DATE', 'ID2']).ngroups}\")\n",
    "    print(f\"\\t Videos: {df[i].groupby(['CAM', 'DATE']).ngroups}\")"
   ]
  },
  {
   "cell_type": "markdown",
   "metadata": {},
   "source": [
    "# video/id"
   ]
  },
  {
   "cell_type": "code",
   "execution_count": null,
   "metadata": {},
   "outputs": [],
   "source": [
    "for i, d in enumerate(dirs):\n",
    "    unique_videos = df[i].drop_duplicates(subset=['GROUP', 'ID', 'CAM', 'DATE'])\n",
    "    videos_per_id = unique_videos.groupby(['GROUP', 'ID']).size()\n",
    "    videos_count_distribution = videos_per_id.value_counts().sort_index()\n",
    "    plt.figure(figsize=(5, 2))\n",
    "    plt.bar(videos_count_distribution.index, videos_count_distribution.values)\n",
    "    plt.xlabel('Num Videos/ID')\n",
    "    plt.ylabel('Individuals')\n",
    "    plt.title(f'{d}: Number of Videos per ID')\n",
    "    plt.xticks(videos_count_distribution.index)\n",
    "    plt.show()\n",
    "    "
   ]
  },
  {
   "cell_type": "code",
   "execution_count": null,
   "metadata": {},
   "outputs": [],
   "source": [
    "for i, d in enumerate(dirs):\n",
    "    unique_videos = df[i].drop_duplicates(subset=['GROUP', 'ID', 'CAM', 'DATE', 'ID2'])\n",
    "    videos_per_id = unique_videos.groupby(['GROUP', 'ID']).size()\n",
    "    videos_count_distribution = videos_per_id.value_counts().sort_index()\n",
    "    plt.figure(figsize=(5, 2))\n",
    "    plt.bar(videos_count_distribution.index, videos_count_distribution.values)\n",
    "    plt.xlabel('Num VideoClips/ID')\n",
    "    plt.ylabel('Individuals')\n",
    "    plt.title(f'{d}: Number of Video Clips per ID')\n",
    "    plt.xticks(videos_count_distribution.index)\n",
    "    plt.show()"
   ]
  },
  {
   "cell_type": "code",
   "execution_count": null,
   "metadata": {},
   "outputs": [],
   "source": [
    "for i, d in enumerate(dirs):\n",
    "    unique_videos = df[i].drop_duplicates(subset=['GROUP', 'ID', 'CAM'])\n",
    "    videos_per_id = unique_videos.groupby(['GROUP', 'ID']).size()\n",
    "    videos_count_distribution = videos_per_id.value_counts().sort_index()\n",
    "    plt.figure(figsize=(5, 2))\n",
    "    plt.bar(videos_count_distribution.index, videos_count_distribution.values)\n",
    "    plt.xlabel('Num Cam/ID')\n",
    "    plt.ylabel('Individuals')\n",
    "    plt.title(f'{d}: Number of Cameras per ID')\n",
    "    plt.xticks(videos_count_distribution.index)\n",
    "    plt.show()"
   ]
  },
  {
   "cell_type": "code",
   "execution_count": null,
   "metadata": {},
   "outputs": [],
   "source": [
    "for i, d in enumerate(dirs):\n",
    "    unique_videos = df[i].drop_duplicates(subset=['GROUP', 'ID', 'CAM', 'DATE', 'ID2'])\n",
    "    images_per_camera = unique_videos.groupby('CAM').size()\n",
    "    plt.figure(figsize=(10, 5))\n",
    "    plt.bar(images_per_camera.index, images_per_camera.values)\n",
    "    plt.xlabel('Camera ID')\n",
    "    plt.ylabel('Images')\n",
    "    plt.title(f'{d}: Images/Camera')\n",
    "    plt.show()"
   ]
  },
  {
   "cell_type": "code",
   "execution_count": null,
   "metadata": {},
   "outputs": [],
   "source": [
    "for i, d in enumerate(dirs):\n",
    "    unique_videos = df[i].drop_duplicates(subset=['GROUP', 'ID', 'CAM', 'DATE', 'ID2'])\n",
    "    individuals_per_camera = unique_videos.groupby(['CAM', 'GROUP', 'ID']).size().reset_index().groupby('CAM').size()\n",
    "    plt.figure(figsize=(10, 5))\n",
    "    plt.bar(individuals_per_camera.index, individuals_per_camera.values)\n",
    "    plt.xlabel('Camera ID')\n",
    "    plt.ylabel('Individuals')\n",
    "    plt.title(f'{d}: Individuals/Camera')\n",
    "    plt.show()"
   ]
  },
  {
   "cell_type": "code",
   "execution_count": null,
   "metadata": {},
   "outputs": [],
   "source": [
    "for i, d in enumerate(dirs):\n",
    "    unique_videos = df[i].drop_duplicates(subset=['GROUP', 'ID', 'CAM', 'DATE', 'ID2'])\n",
    "    unique_individuals_per_group = unique_videos.groupby(['GROUP', 'ID']).size().reset_index().groupby('GROUP').size()\n",
    "    plt.figure(figsize=(10, 5))\n",
    "    plt.bar(unique_individuals_per_group.index, unique_individuals_per_group.values)\n",
    "    plt.xlabel('Group ID')\n",
    "    plt.ylabel('Individuals')\n",
    "    plt.title(f'{d}: Individuals/Group')\n",
    "    plt.show()"
   ]
  },
  {
   "cell_type": "code",
   "execution_count": null,
   "metadata": {},
   "outputs": [],
   "source": [
    "def categorize_id(id_):\n",
    "    id_num = int(id_)\n",
    "    if id_num == 0:\n",
    "        return 'Silverback'\n",
    "    elif 1 <= id_num <= 19:\n",
    "        return 'Adult female'\n",
    "    elif 20 <= id_num <= 39:\n",
    "        return 'Blackback'\n",
    "    elif 40 <= id_num <= 59:\n",
    "        return 'Adolescent & Juvenil'\n",
    "    elif 60 <= id_num <= 79:\n",
    "        return 'Infant'\n",
    "    else:\n",
    "        return 'Unknown'\n",
    "\n",
    "for i, d in enumerate(dirs):\n",
    "    unique_individuals = df[i].drop_duplicates(subset=['GROUP', 'ID']).copy()\n",
    "    \n",
    "    # Categorize each ID and add to the DataFrame using assign()\n",
    "    unique_individuals = unique_individuals.assign(Type=unique_individuals['ID'].apply(categorize_id))\n",
    "    \n",
    "    # Calculate the number of each type\n",
    "    type_distribution = unique_individuals['Type'].value_counts().sort_index()\n",
    "    \n",
    "    # Plot the distribution of types\n",
    "    plt.figure(figsize=(10, 5))\n",
    "    plt.bar(type_distribution.index, type_distribution.values)\n",
    "    plt.xlabel('Type')\n",
    "    plt.ylabel('Number of Individuals')\n",
    "    plt.title(f'{d}: Types of Individuals')\n",
    "    plt.show()"
   ]
  }
 ],
 "metadata": {
  "kernelspec": {
   "display_name": "Python 3",
   "language": "python",
   "name": "python3"
  },
  "language_info": {
   "codemirror_mode": {
    "name": "ipython",
    "version": 3
   },
   "file_extension": ".py",
   "mimetype": "text/x-python",
   "name": "python",
   "nbconvert_exporter": "python",
   "pygments_lexer": "ipython3",
   "version": "3.10.14"
  }
 },
 "nbformat": 4,
 "nbformat_minor": 2
}
