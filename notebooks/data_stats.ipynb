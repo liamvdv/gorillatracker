{
 "cells": [
  {
   "cell_type": "code",
   "execution_count": null,
   "metadata": {},
   "outputs": [],
   "source": [
    "import os\n",
    "from datetime import datetime\n",
    "from dataclasses import dataclass\n",
    "import json\n",
    "\n",
    "\n",
    "video_path = \"../video_data\"\n",
    "image_path = \"../data/ground_truth/cxl/full_images\"\n",
    "timestamps_path = \"../data/derived_data/timestamps.json\"\n",
    "\n",
    "video_names = os.listdir(video_path)\n",
    "image_names = os.listdir(image_path)\n",
    "timestamps = json.load(open(timestamps_path))\n",
    "\n",
    "\n",
    "@dataclass\n",
    "class Video:\n",
    "    camera_id: str\n",
    "    date: datetime\n",
    "\n",
    "\n",
    "@dataclass\n",
    "class Image:\n",
    "    gorilla_id: str\n",
    "    camera_id: str\n",
    "    data: datetime\n",
    "\n",
    "\n",
    "def extract_video_info(video_name) -> Video:\n",
    "    try:\n",
    "        filename, _ = os.path.splitext(video_name)\n",
    "        camera_id, date_str, _ = filename.split(\"_\")\n",
    "        date = datetime.strptime(date_str, \"%Y%m%d\")\n",
    "        timestamp = timestamps[filename]\n",
    "        daytime = datetime.strptime(timestamp, \"%I:%M %p\")\n",
    "        date = datetime.combine(date, daytime.time())\n",
    "    except ValueError:\n",
    "        print(f\"Could not parse {video_name}\")\n",
    "        return None\n",
    "    return Video(camera_id, date)\n",
    "\n",
    "\n",
    "def extract_image_info(image_name) -> Image:\n",
    "    try:\n",
    "        gorilla_id, camera_id, date_str, _ = image_name.split(\"_\")\n",
    "        date = datetime.strptime(date_str, \"%Y%m%d\")\n",
    "        return Image(gorilla_id, camera_id, date)\n",
    "    except ValueError:\n",
    "        print(f\"Could not parse {image_name}\")\n",
    "        return None\n",
    "\n",
    "\n",
    "videos = list(filter(lambda v: v is not None, map(extract_video_info, video_names)))\n",
    "images = list(filter(lambda i: i is not None, map(extract_image_info, image_names)))\n",
    "\n",
    "camera_ids = set(map(lambda v: v.camera_id, videos))\n",
    "gorilla_ids = set(map(lambda i: i.gorilla_id, images))"
   ]
  },
  {
   "cell_type": "code",
   "execution_count": null,
   "metadata": {},
   "outputs": [],
   "source": [
    "print(f\"Found {len(videos)} videos\")\n",
    "print(f\"Found {len(images)} images\")\n",
    "print(f\"Found {len(camera_ids)} camera ids\")\n",
    "print(f\"Found {len(gorilla_ids)} gorilla ids\")"
   ]
  },
  {
   "cell_type": "markdown",
   "metadata": {},
   "source": [
    "# Video Analytics"
   ]
  },
  {
   "cell_type": "code",
   "execution_count": null,
   "metadata": {},
   "outputs": [],
   "source": [
    "import matplotlib.pyplot as plt\n",
    "import matplotlib.dates as mdates\n",
    "from matplotlib.dates import DateFormatter\n",
    "\n",
    "import pandas as pd\n",
    "import numpy as np"
   ]
  },
  {
   "cell_type": "markdown",
   "metadata": {},
   "source": [
    "### Datetime"
   ]
  },
  {
   "cell_type": "code",
   "execution_count": null,
   "metadata": {},
   "outputs": [],
   "source": [
    "video_dates = [v.date.date() for v in videos]\n",
    "video_dates_matplotlib = [mdates.date2num(d) for d in video_dates]\n",
    "fig, ax = plt.subplots()\n",
    "ax.hist(video_dates_matplotlib, bins=100)\n",
    "ax.xaxis.set_major_formatter(DateFormatter(\"%Y-%m-%d\"))\n",
    "# plt.yscale(\"log\")\n",
    "plt.xlabel(\"Date\")\n",
    "plt.ylabel(\"Number of Videos\")\n",
    "plt.xticks(rotation=45)\n",
    "plt.tight_layout()\n",
    "plt.show()"
   ]
  },
  {
   "cell_type": "code",
   "execution_count": null,
   "metadata": {},
   "outputs": [],
   "source": [
    "BIN_SIZE_IN_WEEKS = 2\n",
    "bin_size = f\"{BIN_SIZE_IN_WEEKS}W\"\n",
    "video_data = [(v.camera_id, v.date.date()) for v in videos]\n",
    "df_videos = pd.DataFrame(video_data, columns=[\"camera_id\", \"date\"])\n",
    "df_videos[\"date\"] = pd.to_datetime(df_videos[\"date\"])\n",
    "\n",
    "grouped_data = df_videos.groupby(\"camera_id\").resample(bin_size, on=\"date\").size().reset_index(name=\"count\")\n",
    "pivot_data = grouped_data.pivot(index=\"date\", columns=\"camera_id\", values=\"count\").fillna(0)\n",
    "stacked_data = pivot_data.cumsum(axis=1)\n",
    "\n",
    "stacked_data\n",
    "\n",
    "# Plotting\n",
    "plt.figure(figsize=(15, 8))\n",
    "\n",
    "bottom = np.zeros(len(stacked_data))\n",
    "\n",
    "bin_width = 5\n",
    "\n",
    "for camera_id in reversed(stacked_data.columns):\n",
    "    plt.bar(\n",
    "        stacked_data.index,\n",
    "        stacked_data[camera_id],\n",
    "        bottom=bottom,\n",
    "        width=bin_width,\n",
    "        align=\"center\",\n",
    "        label=f\"Camera {camera_id}\",\n",
    "    )\n",
    "\n",
    "plt.xlabel(\"Date\")\n",
    "plt.ylabel(\"Total Number of Videos\")\n",
    "plt.title(f\"Total Number of Videos Recorded Per {bin_size} (Stacked by Camera)\")\n",
    "plt.legend(title=\"Camera ID\")\n",
    "plt.grid(True)\n",
    "plt.show()"
   ]
  },
  {
   "cell_type": "markdown",
   "metadata": {},
   "source": [
    "### If we not plot video files but videos taken on the same day"
   ]
  },
  {
   "cell_type": "code",
   "execution_count": null,
   "metadata": {},
   "outputs": [],
   "source": [
    "from collections import defaultdict\n",
    "\n",
    "# Group videos by camera ID and date\n",
    "grouped_videos = defaultdict(list)\n",
    "for video in videos:\n",
    "    grouped_videos[(video.camera_id, video.date.date())].append(video)\n",
    "\n",
    "# Find start and end times for each group\n",
    "video_group_timings = {}\n",
    "for (camera_id, date), group in grouped_videos.items():\n",
    "    start_time = min(video.date for video in group)\n",
    "    end_time = max(video.date for video in group)\n",
    "    video_group_timings[(camera_id, date)] = (start_time, end_time, end_time - start_time)\n",
    "\n",
    "len(grouped_videos), len(videos)"
   ]
  },
  {
   "cell_type": "code",
   "execution_count": null,
   "metadata": {},
   "outputs": [],
   "source": [
    "plt.figure(figsize=(15, 8))\n",
    "plt.hist([length.total_seconds() / 60 for _, __, length in video_group_timings.values()], bins=100, log=True)\n",
    "plt.xlabel(\"Video Length (minutes)\")\n",
    "plt.ylabel(\"Number of Videos\")\n",
    "plt.title(\"Distribution of Video Lengths\")\n",
    "plt.grid(True)\n",
    "plt.show()"
   ]
  },
  {
   "cell_type": "code",
   "execution_count": null,
   "metadata": {},
   "outputs": [],
   "source": [
    "longest_videos_time = sorted(video_group_timings.values(), key=lambda x: x[2], reverse=True)[:10]\n",
    "_, __, length = longest_videos_time[-1]\n",
    "# get the key for the longest videos\n",
    "longest_videos = [key for key, value in video_group_timings.items() if value[2] >= length]\n",
    "\n",
    "scatter_data = []\n",
    "for index, key in enumerate(longest_videos):\n",
    "    for video in grouped_videos[key]:\n",
    "        time = video.date.time()\n",
    "        scatter_data.append((mdates.date2num(datetime.combine(datetime.min, time)), index + 1))\n",
    "\n",
    "# Separate the data for plotting\n",
    "times, video_indices = zip(*scatter_data)\n",
    "\n",
    "# Create a scatter plot\n",
    "plt.figure(figsize=(12, 6))\n",
    "plt.scatter(times, video_indices, alpha=0.7)\n",
    "\n",
    "# Formatting the x-axis to show time\n",
    "plt.gca().xaxis.set_major_formatter(mdates.DateFormatter(\"%H:%M\"))\n",
    "plt.gca().xaxis.set_major_locator(mdates.HourLocator(interval=1))  # Interval set to every hour\n",
    "plt.gcf().autofmt_xdate()  # Auto-format for better readability\n",
    "\n",
    "# Set labels and title\n",
    "plt.xlabel(\"Time of Day\")\n",
    "plt.ylabel(\"Video Identifier (Top 10 Longest Videos)\")\n",
    "plt.title(\"Start Times of Sub-Videos in the Top 10 Longest Videos\")\n",
    "plt.grid(True)\n",
    "\n",
    "# Show plot\n",
    "plt.show()"
   ]
  },
  {
   "cell_type": "markdown",
   "metadata": {},
   "source": [
    "### Time of day the videos were taken"
   ]
  },
  {
   "cell_type": "code",
   "execution_count": null,
   "metadata": {},
   "outputs": [],
   "source": [
    "times = [v.date.time() for v in videos]\n",
    "\n",
    "times_matplotlib = [mdates.date2num(datetime.combine(datetime.today(), t)) for t in times]\n",
    "\n",
    "fig, ax = plt.subplots()\n",
    "ax.hist(times_matplotlib, bins=24 * 4, rwidth=0.8)  # 24 bins for each hour of the day\n",
    "\n",
    "# Format the x-axis to display hours\n",
    "ax.xaxis.set_major_formatter(DateFormatter(\"%H:%M\"))\n",
    "\n",
    "plt.xlabel(\"Time of Day\")\n",
    "plt.ylabel(\"Number of Videos\")\n",
    "plt.title(\"Distribution of Video Recording Times\")\n",
    "plt.xticks(rotation=45)\n",
    "plt.tight_layout()\n",
    "plt.show()"
   ]
  },
  {
   "cell_type": "markdown",
   "metadata": {},
   "source": [
    "# Image Analytics"
   ]
  },
  {
   "cell_type": "markdown",
   "metadata": {},
   "source": [
    "### Datetime"
   ]
  },
  {
   "cell_type": "code",
   "execution_count": null,
   "metadata": {},
   "outputs": [],
   "source": [
    "# Extracting dates from the images data\n",
    "image_dates = [i.data.date() for i in images]\n",
    "image_dates_matplotlib = [mdates.date2num(d) for d in image_dates]\n",
    "\n",
    "# Histogram of image dates\n",
    "fig, ax = plt.subplots()\n",
    "ax.hist(image_dates_matplotlib, bins=100)\n",
    "ax.xaxis.set_major_formatter(DateFormatter(\"%Y-%m-%d\"))\n",
    "plt.xlabel(\"Date\")\n",
    "plt.ylabel(\"Number of Images\")\n",
    "plt.xticks(rotation=45)\n",
    "plt.tight_layout()\n",
    "plt.show()"
   ]
  },
  {
   "cell_type": "markdown",
   "metadata": {},
   "source": [
    "### Distribution of pictures among gorillas"
   ]
  },
  {
   "cell_type": "code",
   "execution_count": null,
   "metadata": {},
   "outputs": [],
   "source": [
    "gorilla_image_count = {}\n",
    "for i in images:\n",
    "    gorilla_image_count[i.gorilla_id] = gorilla_image_count.get(i.gorilla_id, 0) + 1\n",
    "\n",
    "fig, ax = plt.subplots()\n",
    "ax.bar(gorilla_image_count.keys(), gorilla_image_count.values())\n",
    "plt.xlabel(\"Gorilla ID\")\n",
    "plt.ylabel(\"Number of Images\")\n",
    "plt.xticks(rotation=45)\n",
    "plt.tight_layout()\n",
    "plt.show()"
   ]
  },
  {
   "cell_type": "markdown",
   "metadata": {},
   "source": [
    "### Images per camera ID"
   ]
  },
  {
   "cell_type": "code",
   "execution_count": null,
   "metadata": {},
   "outputs": [],
   "source": [
    "camera_image_count = {}\n",
    "for i in images:\n",
    "    camera_image_count[i.camera_id] = camera_image_count.get(i.camera_id, 0) + 1\n",
    "\n",
    "fig, ax = plt.subplots()\n",
    "ax.bar(camera_image_count.keys(), camera_image_count.values())\n",
    "plt.xlabel(\"Camera ID\")\n",
    "plt.ylabel(\"Number of Images\")\n",
    "plt.xticks(rotation=45)\n",
    "plt.tight_layout()\n",
    "plt.show()"
   ]
  },
  {
   "cell_type": "markdown",
   "metadata": {},
   "source": [
    "# Image and Videos Compared"
   ]
  },
  {
   "cell_type": "code",
   "execution_count": null,
   "metadata": {},
   "outputs": [],
   "source": [
    "from collections import Counter\n",
    "\n",
    "# Counting the number of videos and images for each date\n",
    "video_date_counts = Counter([video.date.date() for video in videos])\n",
    "image_date_counts = Counter([image.data.date() for image in images])\n",
    "\n",
    "# Create a DataFrame from the counts\n",
    "df_video_image = pd.DataFrame(\n",
    "    {\"Video Count\": pd.Series(video_date_counts), \"Image Count\": pd.Series(image_date_counts)}\n",
    ")\n",
    "\n",
    "# Fill missing dates in each series with 0\n",
    "df_video_image = df_video_image.fillna(0)\n",
    "\n",
    "# Sort the DataFrame by date\n",
    "df_video_image = df_video_image.sort_index()\n",
    "\n",
    "# Plotting\n",
    "plt.figure(figsize=(15, 8))\n",
    "# Stacked bar chart\n",
    "df_video_image.plot(kind=\"bar\", stacked=True, figsize=(15, 8))\n",
    "\n",
    "plt.xlabel(\"Date\")\n",
    "plt.ylabel(\"Count\")\n",
    "plt.title(\"Comparison of Videos and Images Recorded by Date\")\n",
    "plt.xticks(rotation=45)\n",
    "plt.tight_layout()\n",
    "plt.show()"
   ]
  }
 ],
 "metadata": {
  "kernelspec": {
   "display_name": "Python 3",
   "language": "python",
   "name": "python3"
  },
  "language_info": {
   "codemirror_mode": {
    "name": "ipython",
    "version": 3
   },
   "file_extension": ".py",
   "mimetype": "text/x-python",
   "name": "python",
   "nbconvert_exporter": "python",
   "pygments_lexer": "ipython3",
   "version": "3.1.-1"
  }
 },
 "nbformat": 4,
 "nbformat_minor": 2
}
