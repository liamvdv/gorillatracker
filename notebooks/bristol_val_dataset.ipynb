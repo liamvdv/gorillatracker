{
 "cells": [
  {
   "cell_type": "code",
   "execution_count": null,
   "metadata": {},
   "outputs": [],
   "source": [
    "import os\n",
    "import matplotlib.pyplot as plt\n",
    "import pandas as pd\n",
    "import datetime as dt\n",
    "from collections import defaultdict"
   ]
  },
  {
   "cell_type": "code",
   "execution_count": null,
   "metadata": {},
   "outputs": [],
   "source": [
    "dir_path = \"/workspaces/gorillatracker/datasets/supervised/bristol/cross_encounter_validation/cropped_frames_square_filtered\"\n",
    "\n",
    "images = os.listdir(dir_path)\n",
    "\n",
    "def get_label(image):\n",
    "    return image.split(\"_\")[0]\n",
    "\n",
    "def get_video(image):\n",
    "    return image.split(\"_\")[2]\n"
   ]
  },
  {
   "cell_type": "code",
   "execution_count": null,
   "metadata": {},
   "outputs": [],
   "source": [
    "# plot the number of images per video\n",
    "video_images = {}\n",
    "for image in images:\n",
    "    video = get_video(image)\n",
    "    if video in video_images:\n",
    "        video_images[video] += 1\n",
    "    else:\n",
    "        video_images[video] = 1\n",
    "\n",
    "image_count2videos = defaultdict(list)\n",
    "for video, count in video_images.items():\n",
    "    image_count2videos[count] += [video]\n",
    "\n",
    "plt.bar(image_count2videos.keys(), [len(videos) for videos in image_count2videos.values()])\n",
    "plt.xlabel(\"Number of images\")\n",
    "plt.ylabel(\"Number of videos\")\n",
    "plt.title(\"Number of images per video\")"
   ]
  },
  {
   "cell_type": "code",
   "execution_count": null,
   "metadata": {},
   "outputs": [],
   "source": [
    "# get images per label\n",
    "label_images = {}\n",
    "for image in images:\n",
    "    label = get_label(image)\n",
    "    if label in label_images:\n",
    "        label_images[label] += 1\n",
    "    else:\n",
    "        label_images[label] = 1\n",
    "\n",
    "plt.figure()\n",
    "plt.bar(label_images.keys(), label_images.values())\n",
    "plt.xlabel(\"Label\")\n",
    "plt.ylabel(\"Number of images\")\n",
    "plt.title(\"Number of images per label\")\n",
    "plt.show()"
   ]
  }
 ],
 "metadata": {
  "kernelspec": {
   "display_name": "Python 3",
   "language": "python",
   "name": "python3"
  },
  "language_info": {
   "codemirror_mode": {
    "name": "ipython",
    "version": 3
   },
   "file_extension": ".py",
   "mimetype": "text/x-python",
   "name": "python",
   "nbconvert_exporter": "python",
   "pygments_lexer": "ipython3",
   "version": "3.10.14"
  }
 },
 "nbformat": 4,
 "nbformat_minor": 2
}
