{
 "cells": [
  {
   "cell_type": "code",
   "execution_count": null,
   "metadata": {},
   "outputs": [],
   "source": [
    "import os\n",
    "import matplotlib.pyplot as plt\n",
    "import pandas as pd\n",
    "import datetime as dt\n",
    "from collections import defaultdict\n",
    "\n",
    "params = {\n",
    "    'font.size': 11,\n",
    "    'font.family': 'serif',\n",
    "}\n",
    "plt.rcParams.update(params)"
   ]
  },
  {
   "cell_type": "code",
   "execution_count": null,
   "metadata": {},
   "outputs": [],
   "source": [
    "dir_path = \"/workspaces/gorillatracker/data/supervised/bristol/cross_encounter_validation/cropped_frames_filtered\"\n",
    "\n",
    "images = os.listdir(dir_path)\n",
    "\n",
    "def get_label(image):\n",
    "    return image.split(\"_\")[0]\n",
    "\n",
    "def get_video(image):\n",
    "    return image.split(\"_\")[2]\n"
   ]
  },
  {
   "cell_type": "code",
   "execution_count": null,
   "metadata": {},
   "outputs": [],
   "source": [
    "# plot the number of images per video\n",
    "video_images = {}\n",
    "for image in images:\n",
    "    video = get_video(image)\n",
    "    if video in video_images:\n",
    "        video_images[video] += 1\n",
    "    else:\n",
    "        video_images[video] = 1\n",
    "\n",
    "image_count2videos = defaultdict(list)\n",
    "for video, count in video_images.items():\n",
    "    image_count2videos[count] += [video]\n",
    "\n",
    "plt.bar(image_count2videos.keys(), [len(videos) for videos in image_count2videos.values()])\n",
    "plt.xlabel(\"Number of images\")\n",
    "plt.ylabel(\"Number of videos\")\n",
    "plt.title(\"Number of images per video\")"
   ]
  },
  {
   "cell_type": "code",
   "execution_count": null,
   "metadata": {},
   "outputs": [],
   "source": [
    "# get images per label\n",
    "label_images = {}\n",
    "for image in images:\n",
    "    label = get_label(image)\n",
    "    if label in label_images:\n",
    "        label_images[label] += 1\n",
    "    else:\n",
    "        label_images[label] = 1\n",
    "\n",
    "plt.figure()\n",
    "plt.bar(label_images.keys(), label_images.values())\n",
    "plt.xlabel(\"Label\")\n",
    "plt.ylabel(\"Number of images\")\n",
    "plt.title(\"Number of images per label\")\n",
    "plt.show()"
   ]
  },
  {
   "cell_type": "code",
   "execution_count": null,
   "metadata": {},
   "outputs": [],
   "source": [
    "# videos per label\n",
    "label_videos = defaultdict(set)\n",
    "for image in images:\n",
    "    label = get_label(image)\n",
    "    video = get_video(image)\n",
    "    label_videos[label].add(video)\n",
    "\n",
    "plt.figure()\n",
    "plt.bar(label_videos.keys(), [len(videos) for videos in label_videos.values()])\n",
    "plt.xlabel(\"Label\")\n",
    "plt.ylabel(\"Number of videos\")\n",
    "plt.title(\"Number of videos per label\")\n",
    "plt.show()"
   ]
  },
  {
   "cell_type": "code",
   "execution_count": null,
   "metadata": {},
   "outputs": [],
   "source": [
    "# combine into barplot of number of images per label where each bar is a stack of images that are from videos with one image, two images, etc.\n",
    "\n",
    "label_videos_imgcount = defaultdict(lambda: defaultdict(int))\n",
    "for image in images:\n",
    "    label = get_label(image)\n",
    "    video = get_video(image)\n",
    "    label_videos_imgcount[label][video] += 1\n",
    "\n",
    "# get the maximum number of images per video\n",
    "max_images = max([max(videos.values()) for videos in label_videos_imgcount.values()])\n",
    "plt.figure()\n",
    "bottom = [0] * len(label_videos_imgcount.keys())\n",
    "labels = list(label_videos_imgcount.keys())\n",
    "for i in range(1, max_images + 1):\n",
    "    label_images = {label: 0 for label in labels}\n",
    "    for label, videos in label_videos_imgcount.items():\n",
    "        for video, count in videos.items():\n",
    "            if count == i:\n",
    "                label_images[label] += i\n",
    "    \n",
    "    plt.bar(label_images.keys(), label_images.values(), bottom=bottom)\n",
    "    bottom = [bottom[j] + label_images[label] for j, label in enumerate(label_images.keys())]\n",
    "plt.xlabel(\"Label\")\n",
    "plt.ylabel(\"Number of images\")\n",
    "plt.title(\"Amount of images that are from videos with 1, 2, 3, ... images of this exact label\")\n",
    "plt.legend([f\"{i} images\" for i in range(1, max_images + 1)])\n",
    "# plt.savefig(\"plots/bristol/images_per_label_with_video_count.pdf\", bbox_inches=\"tight\")\n",
    "plt.show()"
   ]
  },
  {
   "cell_type": "code",
   "execution_count": null,
   "metadata": {},
   "outputs": [],
   "source": [
    "from PIL import Image\n",
    "\n",
    "img_sizes = []\n",
    "for image in images:\n",
    "    img = Image.open(os.path.join(dir_path, image))\n",
    "    img_sizes.append(img.size)\n",
    "        \n",
    "len(img_sizes)"
   ]
  },
  {
   "cell_type": "code",
   "execution_count": null,
   "metadata": {},
   "outputs": [],
   "source": [
    "# make a matrix histogram of the image sizes (width x height)\n",
    "from matplotlib.colors import LogNorm\n",
    "\n",
    "plt.figure(figsize=(10, 5))\n",
    "amounts_x, amounts_y = [x[0] for x in img_sizes], [x[1] for x in img_sizes]\n",
    "norm = LogNorm(vmax=1000)\n",
    "plt.hist2d(amounts_x, amounts_y, bins=range(0, 1000, 100), cmap=\"Greens\", norm=norm)\n",
    "for i in range(0, 900, 100):\n",
    "    for j in range(0, 900, 100):\n",
    "        plt.text(i+50, j+50, f\"{len([1 for x in img_sizes if i <= x[0] < i+100 and j <= x[1] < j+100])}\", color=\"black\", ha=\"center\", va=\"center\")\n",
    "plt.xlabel(\"Width\")\n",
    "plt.ylabel(\"Height\")\n",
    "plt.title(\"Image Sizes\")\n",
    "# plt.colorbar()\n",
    "plt.grid()\n",
    "\n",
    "# plt.savefig(\"plots/bristol/image_sizes.pdf\", bbox_inches=\"tight\")\n",
    "plt.show()"
   ]
  },
  {
   "cell_type": "code",
   "execution_count": null,
   "metadata": {},
   "outputs": [],
   "source": [
    "# plot one low mid and high resolution image\n",
    "very_low_res = [x for x in img_sizes if x[0] < 100 and x[1] < 100][3]\n",
    "low_res = [x for x in img_sizes if 100 <= x[0] < 200 and 100 <= x[1] < 200][2]\n",
    "mid_res = [x for x in img_sizes if 200 <= x[0] < 500 and 200 <= x[1] < 500][2]\n",
    "high_res = [x for x in img_sizes if x[0] > 500 and x[1] > 500][1]\n",
    "\n",
    "plt.figure(figsize=(20, 5))\n",
    "plt.subplot(1, 4, 1)\n",
    "plt.imshow(Image.open(os.path.join(dir_path, images[img_sizes.index(very_low_res)])))\n",
    "plt.title(f\"Very Low Resolution: {very_low_res[0]}x{very_low_res[1]}\")\n",
    "plt.axis(\"off\")\n",
    "plt.subplot(1, 4, 2)\n",
    "plt.imshow(Image.open(os.path.join(dir_path, images[img_sizes.index(low_res)])))\n",
    "plt.title(f\"Low Resolution: {low_res[0]}x{low_res[1]}\")\n",
    "plt.axis(\"off\")\n",
    "plt.subplot(1, 4, 3)\n",
    "plt.imshow(Image.open(os.path.join(dir_path, images[img_sizes.index(mid_res)])))\n",
    "plt.title(f\"Mid Resolution: {mid_res[0]}x{mid_res[1]}\")\n",
    "plt.axis(\"off\")\n",
    "plt.subplot(1, 4, 4)\n",
    "plt.imshow(Image.open(os.path.join(dir_path, images[img_sizes.index(high_res)])))\n",
    "plt.title(f\"High Resolution: {high_res[0]}x{high_res[1]}\")\n",
    "plt.axis(\"off\")\n",
    "\n",
    "# plt.savefig(\"plots/bristol/resolution_samples.pdf\", bbox_inches=\"tight\")\n",
    "plt.show()"
   ]
  },
  {
   "cell_type": "code",
   "execution_count": null,
   "metadata": {},
   "outputs": [],
   "source": []
  }
 ],
 "metadata": {
  "kernelspec": {
   "display_name": "Python 3",
   "language": "python",
   "name": "python3"
  },
  "language_info": {
   "codemirror_mode": {
    "name": "ipython",
    "version": 3
   },
   "file_extension": ".py",
   "mimetype": "text/x-python",
   "name": "python",
   "nbconvert_exporter": "python",
   "pygments_lexer": "ipython3",
   "version": "3.10.14"
  }
 },
 "nbformat": 4,
 "nbformat_minor": 2
}
