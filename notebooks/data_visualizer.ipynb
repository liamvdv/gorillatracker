{
 "cells": [
  {
   "cell_type": "code",
   "execution_count": null,
   "metadata": {},
   "outputs": [],
   "source": [
    "import random\n",
    "\n",
    "import cv2\n",
    "from matplotlib import pyplot as plt\n",
    "\n",
    "import gorillatracker.utils.cvat_import as cvat_import\n",
    "import gorillatracker.utils.visualizer_helpers as vh"
   ]
  },
  {
   "cell_type": "code",
   "execution_count": null,
   "metadata": {},
   "outputs": [],
   "source": [
    "base_path = \"/workspaces/gorillatracker/data/ground_truth/cxl\"\n",
    "cvat_path = f\"{base_path}/full_images_body_instance_segmentation/cvat_export.xml\"\n",
    "img_path = f\"{base_path}/full_images/\"\n",
    "segmented_gorilla_images = cvat_import.cvat_import(cvat_path, img_path)"
   ]
  },
  {
   "cell_type": "code",
   "execution_count": null,
   "metadata": {},
   "outputs": [],
   "source": [
    "segmented_gorilla_image = random.choice(segmented_gorilla_images)\n",
    "\n",
    "gorilla_image = cv2.imread(segmented_gorilla_image.path)\n",
    "gorilla_image = cv2.cvtColor(gorilla_image, cv2.COLOR_BGR2RGB)\n",
    "\n",
    "plt.figure(figsize=(10, 10))\n",
    "plt.imshow(gorilla_image)\n",
    "plt.axis(\"off\")\n",
    "for class_label, segments in segmented_gorilla_image.segments.items():\n",
    "    for mask, box in segments:\n",
    "        vh.show_sam_box(box, plt.gca())\n",
    "        vh.show_sam_mask(mask, plt.gca())\n",
    "plt.show()"
   ]
  },
  {
   "cell_type": "code",
   "execution_count": null,
   "metadata": {},
   "outputs": [],
   "source": [
    "filename = segmented_gorilla_image.path.split(\"/\")[-1].split(\".\")[0]\n",
    "bbox_path = f\"{base_path}/full_images_body_bbox/{filename}.txt\"\n",
    "vh.show_yolo_box(segmented_gorilla_image.path, bbox_path)"
   ]
  }
 ],
 "metadata": {
  "kernelspec": {
   "display_name": "Python 3",
   "language": "python",
   "name": "python3"
  },
  "language_info": {
   "codemirror_mode": {
    "name": "ipython",
    "version": 3
   },
   "file_extension": ".py",
   "mimetype": "text/x-python",
   "name": "python",
   "nbconvert_exporter": "python",
   "pygments_lexer": "ipython3",
   "version": "3.10.13"
  }
 },
 "nbformat": 4,
 "nbformat_minor": 2
}
