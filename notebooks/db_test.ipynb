{
 "cells": [
  {
   "cell_type": "code",
   "execution_count": null,
   "metadata": {},
   "outputs": [],
   "source": [
    "from sqlalchemy.orm import Session\n",
    "from sqlalchemy import create_engine, select, func, desc\n",
    "from gorillatracker.ssl_pipeline.models import Video, VideoFeature\n",
    "\n",
    "from gorillatracker.ssl_pipeline.dataset import GorillaDataset\n",
    "from gorillatracker.ssl_pipeline.queries import load_processed_videos\n"
   ]
  },
  {
   "cell_type": "code",
   "execution_count": null,
   "metadata": {},
   "outputs": [],
   "source": [
    "dataset = GorillaDataset(\"sqlite:///../test.db\")"
   ]
  },
  {
   "cell_type": "code",
   "execution_count": null,
   "metadata": {},
   "outputs": [],
   "source": [
    "with Session(dataset.engine) as session:\n",
    "    videos = load_processed_videos(session, \"2024-04-09\", [])\n",
    "    test = session.execute(\n",
    "        select(Video.fps, func.sum(Video.frames).label(\"count\"), Video.path)\n",
    "        .group_by(Video.video_id)\n",
    "        .order_by(desc(\"count\"))\n",
    "        )\n",
    "    \n",
    "#print(videos)\n",
    "print(test.all())"
   ]
  },
  {
   "cell_type": "code",
   "execution_count": null,
   "metadata": {},
   "outputs": [],
   "source": [
    "with Session(dataset.engine) as session:\n",
    "    video_id = session.execute(select(Video.video_id).where(Video.path.endswith(\"R033_20220403_392.mp4\")))\n",
    "    \n",
    "print(video_id.scalar())"
   ]
  },
  {
   "cell_type": "code",
   "execution_count": null,
   "metadata": {},
   "outputs": [],
   "source": [
    "with Session(dataset.engine) as session:\n",
    "    session.add(VideoFeature(video_id=1, type=\"test\", value=\"testvalue\"))\n",
    "    session.commit()"
   ]
  },
  {
   "cell_type": "code",
   "execution_count": null,
   "metadata": {},
   "outputs": [],
   "source": [
    "with Session(dataset.engine) as session:\n",
    "    get_video_features = (select(VideoFeature.video_id, VideoFeature.feature_id, VideoFeature.value, VideoFeature.type)\n",
    "                          .group_by(VideoFeature.feature_id))\n",
    "    print(session.execute(get_video_features).all())"
   ]
  },
  {
   "cell_type": "code",
   "execution_count": null,
   "metadata": {},
   "outputs": [],
   "source": [
    "from sqlalchemy import create_engine, MetaData\n",
    "\n",
    "# Create a metadata object\n",
    "metadata = MetaData()\n",
    "\n",
    "# Reflect the tables from the database\n",
    "metadata.reflect(bind=dataset.engine)\n",
    "\n",
    "# Print all table names\n",
    "print(\"Tables in the database:\")\n",
    "for table in metadata.tables.values():\n",
    "    print(table.name)"
   ]
  }
 ],
 "metadata": {
  "kernelspec": {
   "display_name": "Python 3",
   "language": "python",
   "name": "python3"
  },
  "language_info": {
   "codemirror_mode": {
    "name": "ipython",
    "version": 3
   },
   "file_extension": ".py",
   "mimetype": "text/x-python",
   "name": "python",
   "nbconvert_exporter": "python",
   "pygments_lexer": "ipython3",
   "version": "3.10.14"
  }
 },
 "nbformat": 4,
 "nbformat_minor": 2
}
