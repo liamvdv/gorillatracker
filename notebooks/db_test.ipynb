{
 "cells": [
  {
   "cell_type": "code",
   "execution_count": 1,
   "metadata": {},
   "outputs": [],
   "source": [
    "import logging\n",
    "import random\n",
    "from pathlib import Path\n",
    "\n",
    "from sqlalchemy.orm import Session, sessionmaker\n",
    "from sqlalchemy import create_engine, select, func, desc, text, label\n",
    "from gorillatracker.ssl_pipeline.models import TrackingFrameFeature, Tracking, Video\n",
    "\n",
    "from gorillatracker.ssl_pipeline.dataset import GorillaDataset, SSLDataset\n",
    "from gorillatracker.ssl_pipeline.feature_mapper import correlate_videos\n",
    "from gorillatracker.ssl_pipeline.helpers import remove_processed_videos\n",
    "from gorillatracker.ssl_pipeline.queries import load_processed_videos, load_videos\n",
    "from gorillatracker.ssl_pipeline.video_preprocessor import preprocess_videos\n",
    "from gorillatracker.ssl_pipeline.video_processor import multiprocess_predict_and_store, multiprocess_track_and_store\n",
    "from gorillatracker.ssl_pipeline.visualizer import multiprocess_visualize_video"
   ]
  },
  {
   "cell_type": "code",
   "execution_count": 2,
   "metadata": {},
   "outputs": [],
   "source": [
    "dataset = GorillaDataset(\"sqlite:///../test.db\")"
   ]
  },
  {
   "cell_type": "code",
   "execution_count": null,
   "metadata": {},
   "outputs": [],
   "source": []
  },
  {
   "cell_type": "code",
   "execution_count": 9,
   "metadata": {},
   "outputs": [
    {
     "name": "stdout",
     "output_type": "stream",
     "text": [
      "[(60, 5295), (60, 2895), (60, 2775), (60, 2535), (60, 1995), (60, 1875), (60, 1815), (60, 1815), (60, 1815), (60, 1815), (60, 1815), (60, 1815), (60, 1815), (60, 1815), (60, 1815), (60, 1815), (60, 1815), (60, 1815), (60, 1815), (60, 1815), (60, 1215)]\n"
     ]
    }
   ],
   "source": [
    "with Session(dataset.engine) as session:\n",
    "    videos = load_processed_videos(session, \"2024-04-09\", [])\n",
    "    test = session.execute(\n",
    "        select(Video.fps, func.sum(Video.frames).label(\"count\"))\n",
    "        .group_by(Video.video_id)\n",
    "        .order_by(desc(\"count\"))\n",
    "        )\n",
    "    \n",
    "#print(videos)\n",
    "print(test.all())"
   ]
  },
  {
   "cell_type": "code",
   "execution_count": 11,
   "metadata": {},
   "outputs": [
    {
     "name": "stdout",
     "output_type": "stream",
     "text": [
      "Tables in the database:\n",
      "\n",
      "Table: camera\n"
     ]
    },
    {
     "ename": "ArgumentError",
     "evalue": "Column expression, FROM clause, or other columns clause element expected, got [Table('camera', MetaData(), Column('camera_id', INTEGER(), table=<camera>, primary_key=True, nullable=False), Column('name', VARCHAR(length=255), table=<camera>, nullable=False), Column('latitude', FLOAT(), table=<camera>, nullable=False), Column('longitude', FLOAT(), table=<camera>, nullable=False), schema=None)]. Did you mean to say select(Table('camera', MetaData(), Column('camera_id', INTEGER(), table=<camera>, primary_key=True, nullable=False), Column('name', VARCHAR(length=255), table=<camera>, nullable=False), Column('latitude', FLOAT(), table=<camera>, nullable=False), Column('longitude', FLOAT(), table=<camera>, nullable=False), schema=None))?",
     "output_type": "error",
     "traceback": [
      "\u001b[0;31m---------------------------------------------------------------------------\u001b[0m",
      "\u001b[0;31mArgumentError\u001b[0m                             Traceback (most recent call last)",
      "Cell \u001b[0;32mIn[11], line 12\u001b[0m\n\u001b[1;32m     10\u001b[0m \u001b[38;5;28mprint\u001b[39m(\u001b[38;5;124mf\u001b[39m\u001b[38;5;124m\"\u001b[39m\u001b[38;5;130;01m\\n\u001b[39;00m\u001b[38;5;124mTable: \u001b[39m\u001b[38;5;132;01m{\u001b[39;00mtable_name\u001b[38;5;132;01m}\u001b[39;00m\u001b[38;5;124m\"\u001b[39m)\n\u001b[1;32m     11\u001b[0m table \u001b[38;5;241m=\u001b[39m Table(table_name, metadata, autoload\u001b[38;5;241m=\u001b[39m\u001b[38;5;28;01mTrue\u001b[39;00m, autoload_with\u001b[38;5;241m=\u001b[39meng)\n\u001b[0;32m---> 12\u001b[0m select_query \u001b[38;5;241m=\u001b[39m \u001b[43mselect\u001b[49m\u001b[43m(\u001b[49m\u001b[43m[\u001b[49m\u001b[43mtable\u001b[49m\u001b[43m]\u001b[49m\u001b[43m)\u001b[49m\u001b[38;5;241m.\u001b[39mlimit(\u001b[38;5;241m5\u001b[39m)  \u001b[38;5;66;03m# Fetch 5 rows\u001b[39;00m\n\u001b[1;32m     13\u001b[0m result \u001b[38;5;241m=\u001b[39m eng\u001b[38;5;241m.\u001b[39mexecute(select_query)\u001b[38;5;241m.\u001b[39mfetchall()\n\u001b[1;32m     14\u001b[0m \u001b[38;5;28;01mif\u001b[39;00m result:\n",
      "File \u001b[0;32m/opt/conda/envs/research/lib/python3.10/site-packages/sqlalchemy/sql/_selectable_constructors.py:482\u001b[0m, in \u001b[0;36mselect\u001b[0;34m(*entities, **__kw)\u001b[0m\n\u001b[1;32m    480\u001b[0m \u001b[38;5;28;01mif\u001b[39;00m __kw:\n\u001b[1;32m    481\u001b[0m     \u001b[38;5;28;01mraise\u001b[39;00m _no_kw()\n\u001b[0;32m--> 482\u001b[0m \u001b[38;5;28;01mreturn\u001b[39;00m \u001b[43mSelect\u001b[49m\u001b[43m(\u001b[49m\u001b[38;5;241;43m*\u001b[39;49m\u001b[43mentities\u001b[49m\u001b[43m)\u001b[49m\n",
      "File \u001b[0;32m/opt/conda/envs/research/lib/python3.10/site-packages/sqlalchemy/sql/selectable.py:5131\u001b[0m, in \u001b[0;36mSelect.__init__\u001b[0;34m(self, *entities)\u001b[0m\n\u001b[1;32m   5124\u001b[0m \u001b[38;5;28;01mdef\u001b[39;00m \u001b[38;5;21m__init__\u001b[39m(\u001b[38;5;28mself\u001b[39m, \u001b[38;5;241m*\u001b[39mentities: _ColumnsClauseArgument[Any]):\n\u001b[1;32m   5125\u001b[0m \u001b[38;5;250m    \u001b[39m\u001b[38;5;124mr\u001b[39m\u001b[38;5;124;03m\"\"\"Construct a new :class:`_expression.Select`.\u001b[39;00m\n\u001b[1;32m   5126\u001b[0m \n\u001b[1;32m   5127\u001b[0m \u001b[38;5;124;03m    The public constructor for :class:`_expression.Select` is the\u001b[39;00m\n\u001b[1;32m   5128\u001b[0m \u001b[38;5;124;03m    :func:`_sql.select` function.\u001b[39;00m\n\u001b[1;32m   5129\u001b[0m \n\u001b[1;32m   5130\u001b[0m \u001b[38;5;124;03m    \"\"\"\u001b[39;00m\n\u001b[0;32m-> 5131\u001b[0m     \u001b[38;5;28mself\u001b[39m\u001b[38;5;241m.\u001b[39m_raw_columns \u001b[38;5;241m=\u001b[39m [\n\u001b[1;32m   5132\u001b[0m         coercions\u001b[38;5;241m.\u001b[39mexpect(\n\u001b[1;32m   5133\u001b[0m             roles\u001b[38;5;241m.\u001b[39mColumnsClauseRole, ent, apply_propagate_attrs\u001b[38;5;241m=\u001b[39m\u001b[38;5;28mself\u001b[39m\n\u001b[1;32m   5134\u001b[0m         )\n\u001b[1;32m   5135\u001b[0m         \u001b[38;5;28;01mfor\u001b[39;00m ent \u001b[38;5;129;01min\u001b[39;00m entities\n\u001b[1;32m   5136\u001b[0m     ]\n\u001b[1;32m   5138\u001b[0m     GenerativeSelect\u001b[38;5;241m.\u001b[39m\u001b[38;5;21m__init__\u001b[39m(\u001b[38;5;28mself\u001b[39m)\n",
      "File \u001b[0;32m/opt/conda/envs/research/lib/python3.10/site-packages/sqlalchemy/sql/selectable.py:5132\u001b[0m, in \u001b[0;36m<listcomp>\u001b[0;34m(.0)\u001b[0m\n\u001b[1;32m   5124\u001b[0m \u001b[38;5;28;01mdef\u001b[39;00m \u001b[38;5;21m__init__\u001b[39m(\u001b[38;5;28mself\u001b[39m, \u001b[38;5;241m*\u001b[39mentities: _ColumnsClauseArgument[Any]):\n\u001b[1;32m   5125\u001b[0m \u001b[38;5;250m    \u001b[39m\u001b[38;5;124mr\u001b[39m\u001b[38;5;124;03m\"\"\"Construct a new :class:`_expression.Select`.\u001b[39;00m\n\u001b[1;32m   5126\u001b[0m \n\u001b[1;32m   5127\u001b[0m \u001b[38;5;124;03m    The public constructor for :class:`_expression.Select` is the\u001b[39;00m\n\u001b[1;32m   5128\u001b[0m \u001b[38;5;124;03m    :func:`_sql.select` function.\u001b[39;00m\n\u001b[1;32m   5129\u001b[0m \n\u001b[1;32m   5130\u001b[0m \u001b[38;5;124;03m    \"\"\"\u001b[39;00m\n\u001b[1;32m   5131\u001b[0m     \u001b[38;5;28mself\u001b[39m\u001b[38;5;241m.\u001b[39m_raw_columns \u001b[38;5;241m=\u001b[39m [\n\u001b[0;32m-> 5132\u001b[0m         \u001b[43mcoercions\u001b[49m\u001b[38;5;241;43m.\u001b[39;49m\u001b[43mexpect\u001b[49m\u001b[43m(\u001b[49m\n\u001b[1;32m   5133\u001b[0m \u001b[43m            \u001b[49m\u001b[43mroles\u001b[49m\u001b[38;5;241;43m.\u001b[39;49m\u001b[43mColumnsClauseRole\u001b[49m\u001b[43m,\u001b[49m\u001b[43m \u001b[49m\u001b[43ment\u001b[49m\u001b[43m,\u001b[49m\u001b[43m \u001b[49m\u001b[43mapply_propagate_attrs\u001b[49m\u001b[38;5;241;43m=\u001b[39;49m\u001b[38;5;28;43mself\u001b[39;49m\n\u001b[1;32m   5134\u001b[0m \u001b[43m        \u001b[49m\u001b[43m)\u001b[49m\n\u001b[1;32m   5135\u001b[0m         \u001b[38;5;28;01mfor\u001b[39;00m ent \u001b[38;5;129;01min\u001b[39;00m entities\n\u001b[1;32m   5136\u001b[0m     ]\n\u001b[1;32m   5138\u001b[0m     GenerativeSelect\u001b[38;5;241m.\u001b[39m\u001b[38;5;21m__init__\u001b[39m(\u001b[38;5;28mself\u001b[39m)\n",
      "File \u001b[0;32m/opt/conda/envs/research/lib/python3.10/site-packages/sqlalchemy/sql/coercions.py:396\u001b[0m, in \u001b[0;36mexpect\u001b[0;34m(role, element, apply_propagate_attrs, argname, post_inspect, disable_inspection, **kw)\u001b[0m\n\u001b[1;32m    393\u001b[0m                 impl\u001b[38;5;241m.\u001b[39m_raise_for_expected(original_element, argname)\n\u001b[1;32m    395\u001b[0m     \u001b[38;5;28;01mif\u001b[39;00m resolved \u001b[38;5;129;01mis\u001b[39;00m \u001b[38;5;28;01mNone\u001b[39;00m:\n\u001b[0;32m--> 396\u001b[0m         resolved \u001b[38;5;241m=\u001b[39m \u001b[43mimpl\u001b[49m\u001b[38;5;241;43m.\u001b[39;49m\u001b[43m_literal_coercion\u001b[49m\u001b[43m(\u001b[49m\n\u001b[1;32m    397\u001b[0m \u001b[43m            \u001b[49m\u001b[43melement\u001b[49m\u001b[43m,\u001b[49m\u001b[43m \u001b[49m\u001b[43margname\u001b[49m\u001b[38;5;241;43m=\u001b[39;49m\u001b[43margname\u001b[49m\u001b[43m,\u001b[49m\u001b[43m \u001b[49m\u001b[38;5;241;43m*\u001b[39;49m\u001b[38;5;241;43m*\u001b[39;49m\u001b[43mkw\u001b[49m\n\u001b[1;32m    398\u001b[0m \u001b[43m        \u001b[49m\u001b[43m)\u001b[49m\n\u001b[1;32m    399\u001b[0m \u001b[38;5;28;01melse\u001b[39;00m:\n\u001b[1;32m    400\u001b[0m     resolved \u001b[38;5;241m=\u001b[39m element\n",
      "File \u001b[0;32m/opt/conda/envs/research/lib/python3.10/site-packages/sqlalchemy/sql/coercions.py:634\u001b[0m, in \u001b[0;36m_CoerceLiterals._literal_coercion\u001b[0;34m(self, element, argname, **kw)\u001b[0m\n\u001b[1;32m    631\u001b[0m \u001b[38;5;28;01mif\u001b[39;00m \u001b[38;5;28mself\u001b[39m\u001b[38;5;241m.\u001b[39m_coerce_numerics \u001b[38;5;129;01mand\u001b[39;00m \u001b[38;5;28misinstance\u001b[39m(element, (numbers\u001b[38;5;241m.\u001b[39mNumber)):\n\u001b[1;32m    632\u001b[0m     \u001b[38;5;28;01mreturn\u001b[39;00m elements\u001b[38;5;241m.\u001b[39mColumnClause(\u001b[38;5;28mstr\u001b[39m(element), is_literal\u001b[38;5;241m=\u001b[39m\u001b[38;5;28;01mTrue\u001b[39;00m)\n\u001b[0;32m--> 634\u001b[0m \u001b[38;5;28;43mself\u001b[39;49m\u001b[38;5;241;43m.\u001b[39;49m\u001b[43m_raise_for_expected\u001b[49m\u001b[43m(\u001b[49m\u001b[43melement\u001b[49m\u001b[43m,\u001b[49m\u001b[43m \u001b[49m\u001b[43margname\u001b[49m\u001b[43m)\u001b[49m\n",
      "File \u001b[0;32m/opt/conda/envs/research/lib/python3.10/site-packages/sqlalchemy/sql/coercions.py:1122\u001b[0m, in \u001b[0;36mColumnsClauseImpl._raise_for_expected\u001b[0;34m(self, element, argname, resolved, advice, **kw)\u001b[0m\n\u001b[1;32m   1116\u001b[0m \u001b[38;5;28;01mif\u001b[39;00m \u001b[38;5;129;01mnot\u001b[39;00m advice \u001b[38;5;129;01mand\u001b[39;00m \u001b[38;5;28misinstance\u001b[39m(element, \u001b[38;5;28mlist\u001b[39m):\n\u001b[1;32m   1117\u001b[0m     advice \u001b[38;5;241m=\u001b[39m (\n\u001b[1;32m   1118\u001b[0m         \u001b[38;5;124mf\u001b[39m\u001b[38;5;124m\"\u001b[39m\u001b[38;5;124mDid you mean to say select(\u001b[39m\u001b[38;5;124m\"\u001b[39m\n\u001b[1;32m   1119\u001b[0m         \u001b[38;5;124mf\u001b[39m\u001b[38;5;124m\"\u001b[39m\u001b[38;5;132;01m{\u001b[39;00m\u001b[38;5;124m'\u001b[39m\u001b[38;5;124m, \u001b[39m\u001b[38;5;124m'\u001b[39m\u001b[38;5;241m.\u001b[39mjoin(\u001b[38;5;28mrepr\u001b[39m(e)\u001b[38;5;250m \u001b[39m\u001b[38;5;28;01mfor\u001b[39;00m\u001b[38;5;250m \u001b[39me\u001b[38;5;250m \u001b[39m\u001b[38;5;129;01min\u001b[39;00m\u001b[38;5;250m \u001b[39melement)\u001b[38;5;132;01m}\u001b[39;00m\u001b[38;5;124m)?\u001b[39m\u001b[38;5;124m\"\u001b[39m\n\u001b[1;32m   1120\u001b[0m     )\n\u001b[0;32m-> 1122\u001b[0m \u001b[38;5;28;01mreturn\u001b[39;00m \u001b[38;5;28;43msuper\u001b[39;49m\u001b[43m(\u001b[49m\u001b[43m)\u001b[49m\u001b[38;5;241;43m.\u001b[39;49m\u001b[43m_raise_for_expected\u001b[49m\u001b[43m(\u001b[49m\n\u001b[1;32m   1123\u001b[0m \u001b[43m    \u001b[49m\u001b[43melement\u001b[49m\u001b[43m,\u001b[49m\u001b[43m \u001b[49m\u001b[43margname\u001b[49m\u001b[38;5;241;43m=\u001b[39;49m\u001b[43margname\u001b[49m\u001b[43m,\u001b[49m\u001b[43m \u001b[49m\u001b[43mresolved\u001b[49m\u001b[38;5;241;43m=\u001b[39;49m\u001b[43mresolved\u001b[49m\u001b[43m,\u001b[49m\u001b[43m \u001b[49m\u001b[43madvice\u001b[49m\u001b[38;5;241;43m=\u001b[39;49m\u001b[43madvice\u001b[49m\u001b[43m,\u001b[49m\u001b[43m \u001b[49m\u001b[38;5;241;43m*\u001b[39;49m\u001b[38;5;241;43m*\u001b[39;49m\u001b[43mkw\u001b[49m\n\u001b[1;32m   1124\u001b[0m \u001b[43m\u001b[49m\u001b[43m)\u001b[49m\n",
      "File \u001b[0;32m/opt/conda/envs/research/lib/python3.10/site-packages/sqlalchemy/sql/coercions.py:693\u001b[0m, in \u001b[0;36m_SelectIsNotFrom._raise_for_expected\u001b[0;34m(self, element, argname, resolved, advice, code, err, **kw)\u001b[0m\n\u001b[1;32m    690\u001b[0m \u001b[38;5;28;01melse\u001b[39;00m:\n\u001b[1;32m    691\u001b[0m     code \u001b[38;5;241m=\u001b[39m \u001b[38;5;28;01mNone\u001b[39;00m\n\u001b[0;32m--> 693\u001b[0m \u001b[38;5;28;43msuper\u001b[39;49m\u001b[43m(\u001b[49m\u001b[43m)\u001b[49m\u001b[38;5;241;43m.\u001b[39;49m\u001b[43m_raise_for_expected\u001b[49m\u001b[43m(\u001b[49m\n\u001b[1;32m    694\u001b[0m \u001b[43m    \u001b[49m\u001b[43melement\u001b[49m\u001b[43m,\u001b[49m\n\u001b[1;32m    695\u001b[0m \u001b[43m    \u001b[49m\u001b[43margname\u001b[49m\u001b[38;5;241;43m=\u001b[39;49m\u001b[43margname\u001b[49m\u001b[43m,\u001b[49m\n\u001b[1;32m    696\u001b[0m \u001b[43m    \u001b[49m\u001b[43mresolved\u001b[49m\u001b[38;5;241;43m=\u001b[39;49m\u001b[43mresolved\u001b[49m\u001b[43m,\u001b[49m\n\u001b[1;32m    697\u001b[0m \u001b[43m    \u001b[49m\u001b[43madvice\u001b[49m\u001b[38;5;241;43m=\u001b[39;49m\u001b[43madvice\u001b[49m\u001b[43m,\u001b[49m\n\u001b[1;32m    698\u001b[0m \u001b[43m    \u001b[49m\u001b[43mcode\u001b[49m\u001b[38;5;241;43m=\u001b[39;49m\u001b[43mcode\u001b[49m\u001b[43m,\u001b[49m\n\u001b[1;32m    699\u001b[0m \u001b[43m    \u001b[49m\u001b[43merr\u001b[49m\u001b[38;5;241;43m=\u001b[39;49m\u001b[43merr\u001b[49m\u001b[43m,\u001b[49m\n\u001b[1;32m    700\u001b[0m \u001b[43m    \u001b[49m\u001b[38;5;241;43m*\u001b[39;49m\u001b[38;5;241;43m*\u001b[39;49m\u001b[43mkw\u001b[49m\u001b[43m,\u001b[49m\n\u001b[1;32m    701\u001b[0m \u001b[43m\u001b[49m\u001b[43m)\u001b[49m\n\u001b[1;32m    702\u001b[0m \u001b[38;5;66;03m# never reached\u001b[39;00m\n\u001b[1;32m    703\u001b[0m \u001b[38;5;28;01massert\u001b[39;00m \u001b[38;5;28;01mFalse\u001b[39;00m\n",
      "File \u001b[0;32m/opt/conda/envs/research/lib/python3.10/site-packages/sqlalchemy/sql/coercions.py:518\u001b[0m, in \u001b[0;36mRoleImpl._raise_for_expected\u001b[0;34m(self, element, argname, resolved, advice, code, err, **kw)\u001b[0m\n\u001b[1;32m    515\u001b[0m \u001b[38;5;28;01mif\u001b[39;00m advice:\n\u001b[1;32m    516\u001b[0m     msg \u001b[38;5;241m+\u001b[39m\u001b[38;5;241m=\u001b[39m \u001b[38;5;124m\"\u001b[39m\u001b[38;5;124m \u001b[39m\u001b[38;5;124m\"\u001b[39m \u001b[38;5;241m+\u001b[39m advice\n\u001b[0;32m--> 518\u001b[0m \u001b[38;5;28;01mraise\u001b[39;00m exc\u001b[38;5;241m.\u001b[39mArgumentError(msg, code\u001b[38;5;241m=\u001b[39mcode) \u001b[38;5;28;01mfrom\u001b[39;00m \u001b[38;5;21;01merr\u001b[39;00m\n",
      "\u001b[0;31mArgumentError\u001b[0m: Column expression, FROM clause, or other columns clause element expected, got [Table('camera', MetaData(), Column('camera_id', INTEGER(), table=<camera>, primary_key=True, nullable=False), Column('name', VARCHAR(length=255), table=<camera>, nullable=False), Column('latitude', FLOAT(), table=<camera>, nullable=False), Column('longitude', FLOAT(), table=<camera>, nullable=False), schema=None)]. Did you mean to say select(Table('camera', MetaData(), Column('camera_id', INTEGER(), table=<camera>, primary_key=True, nullable=False), Column('name', VARCHAR(length=255), table=<camera>, nullable=False), Column('latitude', FLOAT(), table=<camera>, nullable=False), Column('longitude', FLOAT(), table=<camera>, nullable=False), schema=None))?"
     ]
    }
   ],
   "source": [
    "from sqlalchemy import MetaData,Table, select\n",
    "metadata = MetaData()\n",
    "\n",
    "# Reflect the tables from the database\n",
    "metadata.reflect(bind=dataset.engine)\n",
    "\n",
    "eng = dataset.engine\n",
    "session = Session(eng)\n",
    "print(\"Tables in the database:\")\n",
    "for table_name in metadata.tables.keys():\n",
    "    print(f\"\\nTable: {table_name}\")\n",
    "    table = Table(table_name, metadata, autoload=True, autoload_with=eng)\n",
    "    select_query = select([table]).limit(5)  # Fetch 5 rows\n",
    "    result = eng.execute(select_query).fetchall()\n",
    "    if result:\n",
    "        print(\"Table head:\")\n",
    "        print(result)\n",
    "    else:\n",
    "        print(\"Table is empty.\")\n"
   ]
  }
 ],
 "metadata": {
  "kernelspec": {
   "display_name": "Python 3",
   "language": "python",
   "name": "python3"
  },
  "language_info": {
   "codemirror_mode": {
    "name": "ipython",
    "version": 3
   },
   "file_extension": ".py",
   "mimetype": "text/x-python",
   "name": "python",
   "nbconvert_exporter": "python",
   "pygments_lexer": "ipython3",
   "version": "3.10.14"
  }
 },
 "nbformat": 4,
 "nbformat_minor": 2
}
