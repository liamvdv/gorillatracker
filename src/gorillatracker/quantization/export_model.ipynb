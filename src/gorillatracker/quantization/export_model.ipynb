{
 "cells": [
  {
   "cell_type": "code",
   "execution_count": 5,
   "metadata": {},
   "outputs": [
    {
     "name": "stdout",
     "output_type": "stream",
     "text": [
      "ParseResult(scheme='https', netloc='wandb.ai', path='/gorillas/Embedding-EfficientNetRWM-CXL-OpenSet/runs/lnw2khtz/workspace', params='', query='', fragment='') ['', 'gorillas', 'Embedding-EfficientNetRWM-CXL-OpenSet', 'runs', 'lnw2khtz', 'workspace'] /gorillas/Embedding-EfficientNetRWM-CXL-OpenSet/runs/lnw2khtz/workspace\n",
      "Using model from run: 284-train-export-evaluate-EfficientNetRWM-2024-05-14-14-28-06\n",
      "Config: {'s': 64, 'seed': 42, 'beta1': 0.9, 'beta2': 0.999, 'debug': False, 'end_lr': 1e-06, 'margin': 0.5, 'resume': False, 'compile': False, 'delta_t': 50, 'epsilon': 1e-07, 'l2_beta': 0.01, 'offline': False, 'plugins': None, 'use_ssl': False, 'workers': 16, 'data_dir': '/workspaces/gorillatracker/data/splits/ground_truth-cxl-face_images-openset-reid-val-0-test-0-mintraincount-3-seed-42-train-50-val-25-test-25', 'l2_alpha': 0.1, 'only_val': False, 'profiler': None, 'run_name': '284-train-export-evaluate-EfficientNetRWM', 'start_lr': 0.0001, 'dropout_p': 0.32, 'grad_clip': 1, 'loss_mode': 'softmax/arcface/l2sp', 'min_delta': 0.01, 'precision': 32, 'batch_size': 16, 'initial_lr': 0.0001, 'max_epochs': 50, 'wandb_tags': ['pure-openset'], 'accelerator': 'cuda', 'lr_interval': 1, 'lr_schedule': 'exponential', 'num_classes': [59, 29, 29], 'num_devices': 1, 'warmup_mode': 'constant', 'fast_dev_run': False, 'from_scratch': False, 'project_name': 'Embedding-EfficientNetRWM-CXL-OpenSet', 'weight_decay': 0.5, 'dataset_class': 'gorillatracker.datasets.cxl.CXLDataset', 'save_interval': 10, 'warmup_epochs': 0, 'embedding_size': 256, 'knn_with_train': True, 'lambda_membank': 0.5, 'use_wildme_model': False, 'stepwise_schedule': False, 'model_name_or_path': 'EfficientNet_RW_M', 'val_check_interval': 1, 'force_deterministic': True, 'save_model_to_wandb': True, 'val_before_training': True, 'distributed_strategy': 'auto', 'mem_bank_start_epoch': 10, 'data_resize_transform': 224, 'saved_checkpoint_path': None, 'check_val_every_n_epoch': 10, 'data_preprocessing_only': False, 'early_stopping_patience': 10, 'embedding_save_interval': 10, 'pretrained_weights_file': None, 'path_to_pretrained_weights': 'efficientnet_rw_m.pth', 'gradient_accumulation_steps': 1}\n",
      "Loading model from latest checkpoint\n"
     ]
    },
    {
     "name": "stderr",
     "output_type": "stream",
     "text": [
      "\u001b[34m\u001b[1mwandb\u001b[0m: Downloading large artifact model-lnw2khtz:v1, 984.84MB. 1 files... \n",
      "\u001b[34m\u001b[1mwandb\u001b[0m:   1 of 1 files downloaded.  \n",
      "Done. 0:0:1.9\n",
      "/opt/conda/envs/research/lib/python3.10/site-packages/torch/ao/quantization/observer.py:220: UserWarning: Please use quant_min and quant_max to specify the range for observers.                     reduce_range will be deprecated in a future release of PyTorch.\n",
      "  warnings.warn(\n"
     ]
    }
   ],
   "source": [
    "import torch\n",
    "# import onnx\n",
    "import torchvision\n",
    "from gorillatracker.utils.embedding_generator import get_model_for_run_url\n",
    "import gorillatracker.quantization.quantization_functions as quantization_functions\n",
    "from gorillatracker.datasets.cxl import CXLDataset\n",
    "import gorillatracker.quantization.performance_evaluation as performance_evaluation\n",
    "from gorillatracker.quantization.utils import get_model_input\n",
    "\n",
    "dataset_path = \"/workspaces/gorillatracker/data/splits/ground_truth-cxl-face_images-openset-reid-val-0-test-0-mintraincount-3-seed-42-train-50-val-25-test-25\"\n",
    "\n",
    "model_path = \"/workspaces/gorillatracker/quantized_model_weights.pth\"\n",
    "model_wandb_url = \"https://wandb.ai/gorillas/Embedding-EfficientNetRWM-CXL-OpenSet/runs/lnw2khtz/workspace\"\n",
    "number_of_calibration_images=100\n",
    "\n",
    "model = get_model_for_run_url(model_wandb_url, eval_mode=True)\n",
    "calibration_input_embeddings, _ = get_model_input(\n",
    "    CXLDataset, dataset_path=dataset_path, partion=\"train\", amount_of_tensors=number_of_calibration_images\n",
    ")\n",
    "quantized_model = quantization_functions.ptsq_quantization_fx(model, calibration_input_embeddings)"
   ]
  },
  {
   "cell_type": "code",
   "execution_count": 6,
   "metadata": {},
   "outputs": [
    {
     "name": "stdout",
     "output_type": "stream",
     "text": [
      "Requirement already satisfied: onnx in /opt/conda/envs/research/lib/python3.10/site-packages (1.16.0)\n",
      "Requirement already satisfied: numpy>=1.20 in /opt/conda/envs/research/lib/python3.10/site-packages (from onnx) (1.26.4)\n",
      "Requirement already satisfied: protobuf>=3.20.2 in /opt/conda/envs/research/lib/python3.10/site-packages (from onnx) (4.25.3)\n",
      "\u001b[33mWARNING: Running pip as the 'root' user can result in broken permissions and conflicting behaviour with the system package manager. It is recommended to use a virtual environment instead: https://pip.pypa.io/warnings/venv\u001b[0m\u001b[33m\n",
      "\u001b[0m"
     ]
    }
   ],
   "source": [
    "!pip install onnx"
   ]
  },
  {
   "cell_type": "code",
   "execution_count": 7,
   "metadata": {},
   "outputs": [],
   "source": [
    "# # 1. Convert the model to ONNX https://medium.com/@zergtant/convert-pytorch-model-to-tf-lite-with-onnx-tf-232a3894657c\n",
    "# import onnx\n",
    "# input_shape = (1, 3, 224, 224)\n",
    "# torch.onnx.export(quantized_model, torch.randn(input_shape), \"quantized_model.onnx\", opset_version=17)"
   ]
  },
  {
   "cell_type": "code",
   "execution_count": 9,
   "metadata": {},
   "outputs": [
    {
     "name": "stdout",
     "output_type": "stream",
     "text": [
      "Quantized model accuracy: {'accuracy': 0.7142857909202576, 'accuracy_top5': 0.7857142686843872, 'auroc': 0.8044486045837402, 'f1': 0.6750332117080688, 'precision': 0.6814877390861511}\n"
     ]
    },
    {
     "name": "stderr",
     "output_type": "stream",
     "text": [
      "/workspaces/gorillatracker/src/gorillatracker/metrics.py:367: UserWarning: To copy construct from a tensor, it is recommended to use sourceTensor.clone().detach() or sourceTensor.clone().detach().requires_grad_(True), rather than torch.tensor(sourceTensor).\n",
      "  val_embeddings = torch.tensor(val_embeddings)\n"
     ]
    }
   ],
   "source": [
    "# import onnx_tf\n",
    "import gorillatracker.quantization.quantization_functions\n",
    "import gorillatracker.quantization.performance_evaluation as performance_evaluation\n",
    "import onnx\n",
    "\n",
    "# Load  ONNX model\n",
    "onnx_model = onnx.load('quantized_model.onnx')\n",
    "\n",
    "validations_input_embeddings, validation_labels = get_model_input(\n",
    "    CXLDataset, dataset_path=dataset_path, partion=\"val\", amount_of_tensors=-1\n",
    ")\n",
    "\n",
    "quantized_model_accuracy = performance_evaluation.get_knn_accuracy(\n",
    "    model=model,\n",
    "    images=validations_input_embeddings,\n",
    "    labels=validation_labels,\n",
    "    device=torch.device(\"cpu\"),\n",
    "    knn=1,\n",
    ")\n",
    "print(f\"Quantized model accuracy: {quantized_model_accuracy}\")\n",
    "\n",
    "\n",
    "# Convert ONNX model to TensorFlow format\n",
    "# tf_model = onnx_tf.backend.prepare(onnx_model)\n",
    "# # Export  TensorFlow  model \n",
    "# tf_model.export_graph(\"quantized_model.tf\")"
   ]
  }
 ],
 "metadata": {
  "kernelspec": {
   "display_name": "Python 3",
   "language": "python",
   "name": "python3"
  },
  "language_info": {
   "codemirror_mode": {
    "name": "ipython",
    "version": 3
   },
   "file_extension": ".py",
   "mimetype": "text/x-python",
   "name": "python",
   "nbconvert_exporter": "python",
   "pygments_lexer": "ipython3",
   "version": "3.10.14"
  }
 },
 "nbformat": 4,
 "nbformat_minor": 2
}
